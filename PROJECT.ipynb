{
 "cells": [
  {
   "cell_type": "markdown",
   "metadata": {},
   "source": [
    "## Problem Definition"
   ]
  },
  {
   "cell_type": "markdown",
   "metadata": {},
   "source": [
    "## Data Collection and Preprocessing"
   ]
  },
  {
   "cell_type": "code",
   "execution_count": 1,
   "metadata": {},
   "outputs": [
    {
     "name": "stdout",
     "output_type": "stream",
     "text": [
      "Requirement already satisfied: nbformat in c:\\users\\admin\\appdata\\local\\programs\\python\\python310\\lib\\site-packages (5.9.2)\n",
      "Requirement already satisfied: fastjsonschema in c:\\users\\admin\\appdata\\local\\programs\\python\\python310\\lib\\site-packages (from nbformat) (2.18.0)\n",
      "Requirement already satisfied: jsonschema>=2.6 in c:\\users\\admin\\appdata\\local\\programs\\python\\python310\\lib\\site-packages (from nbformat) (4.19.1)\n",
      "Requirement already satisfied: jupyter-core in c:\\users\\admin\\appdata\\roaming\\python\\python310\\site-packages (from nbformat) (5.3.1)\n",
      "Requirement already satisfied: traitlets>=5.1 in c:\\users\\admin\\appdata\\roaming\\python\\python310\\site-packages (from nbformat) (5.9.0)\n",
      "Requirement already satisfied: attrs>=22.2.0 in c:\\users\\admin\\appdata\\local\\programs\\python\\python310\\lib\\site-packages (from jsonschema>=2.6->nbformat) (23.1.0)\n",
      "Requirement already satisfied: jsonschema-specifications>=2023.03.6 in c:\\users\\admin\\appdata\\local\\programs\\python\\python310\\lib\\site-packages (from jsonschema>=2.6->nbformat) (2023.7.1)\n",
      "Requirement already satisfied: referencing>=0.28.4 in c:\\users\\admin\\appdata\\local\\programs\\python\\python310\\lib\\site-packages (from jsonschema>=2.6->nbformat) (0.30.2)\n",
      "Requirement already satisfied: rpds-py>=0.7.1 in c:\\users\\admin\\appdata\\local\\programs\\python\\python310\\lib\\site-packages (from jsonschema>=2.6->nbformat) (0.10.3)\n",
      "Requirement already satisfied: platformdirs>=2.5 in c:\\users\\admin\\appdata\\roaming\\python\\python310\\site-packages (from jupyter-core->nbformat) (3.10.0)\n",
      "Requirement already satisfied: pywin32>=300 in c:\\users\\admin\\appdata\\roaming\\python\\python310\\site-packages (from jupyter-core->nbformat) (306)\n",
      "Note: you may need to restart the kernel to use updated packages.\n"
     ]
    }
   ],
   "source": [
    "pip install nbformat --upgrade\n"
   ]
  },
  {
   "cell_type": "code",
   "execution_count": 2,
   "metadata": {},
   "outputs": [],
   "source": [
    "import pandas as pd\n",
    "import numpy as np\n",
    "import matplotlib.pyplot as plt\n",
    "import seaborn as sns\n",
    "import plotly.express as px\n",
    "import plotly.graph_objects as go\n",
    "from plotly.subplots import make_subplots"
   ]
  },
  {
   "cell_type": "code",
   "execution_count": 9,
   "metadata": {},
   "outputs": [],
   "source": [
    "import IPython\n",
    "import os"
   ]
  },
  {
   "cell_type": "code",
   "execution_count": 10,
   "metadata": {},
   "outputs": [],
   "source": [
    "exposures_data = pd.read_csv('Exposures.csv')\n",
    "hurricane_data = pd.read_csv('Hurricanes.csv')"
   ]
  },
  {
   "cell_type": "markdown",
   "metadata": {},
   "source": [
    "### Huricanes"
   ]
  },
  {
   "cell_type": "markdown",
   "metadata": {},
   "source": [
    "| Variable Name         | Units      | Description |\n",
    "|-----------------------|------------|-------------|\n",
    "| Serial_Num            |            | Storm Identifier. YYYYJJJHTTNNN where: <br> - YYYY is the year of the first recorded observation of the storm <br> - JJJ is the day of year of the first recorded observation <br> - H is the hemisphere (N=Northern, S=Southern) <br> - TT is the absolute value of the rounded latitude <br> - NNN is the rounded longitude |\n",
    "| Season                | year       |             |\n",
    "| Num                   |            | The cardinal number of the system for that season. Includes all basins. |\n",
    "| Basin                 |            | Basins include: NA, EP, WP, NI, SI, SP, SA, MM |\n",
    "| Sub_basin             |            | Subbasins include: MM, CS, GM, CP, BB, AS, WA, EA |\n",
    "| Name                  |            | Name provided by the agency. Excludes names with digits or abbreviations. |\n",
    "| ISO_time              | UTC        | ISO Time in UTC. Format is YYYY-MM-DD HH:mm:ss. |\n",
    "| Nature                |            | Combined storm type. Includes: DS, TS, ET, SS, NR, MX |\n",
    "| Latitude              | deg_north  |             |\n",
    "| Longitude             | deg_east   |             |\n",
    "| Wind(WMO)             | knots      | Maximum sustained wind speed from the WMO agency for the current location. |\n",
    "| Pres(WMO)             | mb         | Wind pressure |\n",
    "| Center                |            |             |\n",
    "| Wind(WMO) Percentile  | %          |             |\n",
    "| Pres(WMO) Percentile  | %          |             |\n",
    "| Track_type            |            | Track type identifying interaction, including: PROVISIONAL, PROVISIONAL_spur, MAIN, spur |\n"
   ]
  },
  {
   "cell_type": "code",
   "execution_count": 11,
   "metadata": {},
   "outputs": [
    {
     "data": {
      "text/html": [
       "<div>\n",
       "<style scoped>\n",
       "    .dataframe tbody tr th:only-of-type {\n",
       "        vertical-align: middle;\n",
       "    }\n",
       "\n",
       "    .dataframe tbody tr th {\n",
       "        vertical-align: top;\n",
       "    }\n",
       "\n",
       "    .dataframe thead th {\n",
       "        text-align: right;\n",
       "    }\n",
       "</style>\n",
       "<table border=\"1\" class=\"dataframe\">\n",
       "  <thead>\n",
       "    <tr style=\"text-align: right;\">\n",
       "      <th></th>\n",
       "      <th>Serial_Num (N/A)</th>\n",
       "      <th>Season (Year)</th>\n",
       "      <th>Num (#)</th>\n",
       "      <th>Basin (BB)</th>\n",
       "      <th>Sub_basin (BB)</th>\n",
       "      <th>Name (N/A)</th>\n",
       "      <th>ISO_time (YYYY-MM-DD HH:MM:SS)</th>\n",
       "      <th>Nature (N/A)</th>\n",
       "      <th>Latitude (deg_north)</th>\n",
       "      <th>Longitude (deg_east)</th>\n",
       "      <th>Wind(WMO) (kt)</th>\n",
       "      <th>Pres(WMO) (mb)</th>\n",
       "      <th>Center (N/A)</th>\n",
       "      <th>Wind(WMO) Percentile (%)</th>\n",
       "      <th>Pres(WMO) Percentile (%)</th>\n",
       "      <th>Track_type (N/A)</th>\n",
       "    </tr>\n",
       "  </thead>\n",
       "  <tbody>\n",
       "    <tr>\n",
       "      <th>0</th>\n",
       "      <td>1980199N31284</td>\n",
       "      <td>1980</td>\n",
       "      <td>1</td>\n",
       "      <td>NA</td>\n",
       "      <td>MM</td>\n",
       "      <td>UNNAMED</td>\n",
       "      <td>7/17/1980 0:00</td>\n",
       "      <td>TS</td>\n",
       "      <td>30.5</td>\n",
       "      <td>-76.5</td>\n",
       "      <td>20</td>\n",
       "      <td>0</td>\n",
       "      <td>atcf</td>\n",
       "      <td>0.857</td>\n",
       "      <td>-100.0</td>\n",
       "      <td>main</td>\n",
       "    </tr>\n",
       "    <tr>\n",
       "      <th>1</th>\n",
       "      <td>1980199N31284</td>\n",
       "      <td>1980</td>\n",
       "      <td>1</td>\n",
       "      <td>NA</td>\n",
       "      <td>MM</td>\n",
       "      <td>UNNAMED</td>\n",
       "      <td>7/17/1980 6:00</td>\n",
       "      <td>TS</td>\n",
       "      <td>30.2</td>\n",
       "      <td>-77.2</td>\n",
       "      <td>25</td>\n",
       "      <td>0</td>\n",
       "      <td>atcf</td>\n",
       "      <td>4.702</td>\n",
       "      <td>-100.0</td>\n",
       "      <td>main</td>\n",
       "    </tr>\n",
       "    <tr>\n",
       "      <th>2</th>\n",
       "      <td>1980199N31284</td>\n",
       "      <td>1980</td>\n",
       "      <td>1</td>\n",
       "      <td>NA</td>\n",
       "      <td>MM</td>\n",
       "      <td>UNNAMED</td>\n",
       "      <td>7/17/1980 12:00</td>\n",
       "      <td>TS</td>\n",
       "      <td>30.0</td>\n",
       "      <td>-78.0</td>\n",
       "      <td>25</td>\n",
       "      <td>0</td>\n",
       "      <td>atcf</td>\n",
       "      <td>4.702</td>\n",
       "      <td>-100.0</td>\n",
       "      <td>main</td>\n",
       "    </tr>\n",
       "    <tr>\n",
       "      <th>3</th>\n",
       "      <td>1980199N31284</td>\n",
       "      <td>1980</td>\n",
       "      <td>1</td>\n",
       "      <td>NA</td>\n",
       "      <td>MM</td>\n",
       "      <td>UNNAMED</td>\n",
       "      <td>7/17/1980 18:00</td>\n",
       "      <td>TS</td>\n",
       "      <td>29.9</td>\n",
       "      <td>-79.3</td>\n",
       "      <td>25</td>\n",
       "      <td>0</td>\n",
       "      <td>atcf</td>\n",
       "      <td>4.702</td>\n",
       "      <td>-100.0</td>\n",
       "      <td>main</td>\n",
       "    </tr>\n",
       "    <tr>\n",
       "      <th>4</th>\n",
       "      <td>1980199N31284</td>\n",
       "      <td>1980</td>\n",
       "      <td>1</td>\n",
       "      <td>NA</td>\n",
       "      <td>MM</td>\n",
       "      <td>UNNAMED</td>\n",
       "      <td>7/18/1980 0:00</td>\n",
       "      <td>TS</td>\n",
       "      <td>29.8</td>\n",
       "      <td>-80.2</td>\n",
       "      <td>25</td>\n",
       "      <td>0</td>\n",
       "      <td>atcf</td>\n",
       "      <td>4.702</td>\n",
       "      <td>-100.0</td>\n",
       "      <td>main</td>\n",
       "    </tr>\n",
       "  </tbody>\n",
       "</table>\n",
       "</div>"
      ],
      "text/plain": [
       "  Serial_Num (N/A)  Season (Year)  Num (#) Basin (BB) Sub_basin (BB)  \\\n",
       "0    1980199N31284           1980        1         NA             MM   \n",
       "1    1980199N31284           1980        1         NA             MM   \n",
       "2    1980199N31284           1980        1         NA             MM   \n",
       "3    1980199N31284           1980        1         NA             MM   \n",
       "4    1980199N31284           1980        1         NA             MM   \n",
       "\n",
       "  Name (N/A) ISO_time (YYYY-MM-DD HH:MM:SS) Nature (N/A)  \\\n",
       "0    UNNAMED                 7/17/1980 0:00           TS   \n",
       "1    UNNAMED                 7/17/1980 6:00           TS   \n",
       "2    UNNAMED                7/17/1980 12:00           TS   \n",
       "3    UNNAMED                7/17/1980 18:00           TS   \n",
       "4    UNNAMED                 7/18/1980 0:00           TS   \n",
       "\n",
       "   Latitude (deg_north)  Longitude (deg_east)  Wind(WMO) (kt)  Pres(WMO) (mb)  \\\n",
       "0                  30.5                 -76.5              20               0   \n",
       "1                  30.2                 -77.2              25               0   \n",
       "2                  30.0                 -78.0              25               0   \n",
       "3                  29.9                 -79.3              25               0   \n",
       "4                  29.8                 -80.2              25               0   \n",
       "\n",
       "  Center (N/A)  Wind(WMO) Percentile (%)  Pres(WMO) Percentile (%)  \\\n",
       "0         atcf                     0.857                    -100.0   \n",
       "1         atcf                     4.702                    -100.0   \n",
       "2         atcf                     4.702                    -100.0   \n",
       "3         atcf                     4.702                    -100.0   \n",
       "4         atcf                     4.702                    -100.0   \n",
       "\n",
       "  Track_type (N/A)  \n",
       "0             main  \n",
       "1             main  \n",
       "2             main  \n",
       "3             main  \n",
       "4             main  "
      ]
     },
     "execution_count": 11,
     "metadata": {},
     "output_type": "execute_result"
    }
   ],
   "source": [
    "hurricane_data.head(5)"
   ]
  },
  {
   "cell_type": "code",
   "execution_count": 6,
   "metadata": {},
   "outputs": [
    {
     "data": {
      "text/plain": [
       "(13665, 16)"
      ]
     },
     "execution_count": 6,
     "metadata": {},
     "output_type": "execute_result"
    }
   ],
   "source": [
    "hurricane_data.shape"
   ]
  },
  {
   "cell_type": "code",
   "execution_count": 7,
   "metadata": {},
   "outputs": [
    {
     "data": {
      "text/plain": [
       "Serial_Num (N/A)                  0\n",
       "Season (Year)                     0\n",
       "Num (#)                           0\n",
       "Basin (BB)                        0\n",
       "Sub_basin (BB)                    0\n",
       "Name (N/A)                        0\n",
       "ISO_time (YYYY-MM-DD HH:MM:SS)    0\n",
       "Nature (N/A)                      0\n",
       "Latitude (deg_north)              0\n",
       "Longitude (deg_east)              0\n",
       "Wind(WMO) (kt)                    0\n",
       "Pres(WMO) (mb)                    0\n",
       "Center (N/A)                      0\n",
       "Wind(WMO) Percentile (%)          0\n",
       "Pres(WMO) Percentile (%)          0\n",
       "Track_type (N/A)                  0\n",
       "dtype: int64"
      ]
     },
     "execution_count": 7,
     "metadata": {},
     "output_type": "execute_result"
    }
   ],
   "source": [
    "#Check any NA value in the dataset\n",
    "na_count_hurricane = hurricane_data.isna().sum()\n",
    "na_count_hurricane"
   ]
  },
  {
   "cell_type": "code",
   "execution_count": 8,
   "metadata": {},
   "outputs": [],
   "source": [
    "hurricane_data['ISO_time (YYYY-MM-DD HH:MM:SS)']= pd.to_datetime(hurricane_data['ISO_time (YYYY-MM-DD HH:MM:SS)'])"
   ]
  },
  {
   "cell_type": "code",
   "execution_count": 9,
   "metadata": {},
   "outputs": [],
   "source": [
    "hurricane_data['day'] = hurricane_data['ISO_time (YYYY-MM-DD HH:MM:SS)'].dt.day\n",
    "hurricane_data['month'] = hurricane_data['ISO_time (YYYY-MM-DD HH:MM:SS)'].dt.month\n",
    "hurricane_data['hour'] = hurricane_data['ISO_time (YYYY-MM-DD HH:MM:SS)'].dt.hour\n"
   ]
  },
  {
   "cell_type": "code",
   "execution_count": 10,
   "metadata": {},
   "outputs": [],
   "source": [
    "#Drop the ISO time\n",
    "new_columns = [\n",
    "    'Serial_Num (N/A)', 'Season (Year)', 'Num (#)', 'Basin (BB)',\n",
    "    'Sub_basin (BB)', 'Name (N/A)', 'day', 'month', 'hour', \n",
    "    'Nature (N/A)', 'Latitude (deg_north)', 'Longitude (deg_east)',\n",
    "    'Wind(WMO) (kt)', 'Pres(WMO) (mb)', 'Center (N/A)',\n",
    "    'Wind(WMO) Percentile (%)', 'Pres(WMO) Percentile (%)',\n",
    "    'Track_type (N/A)'\n",
    "]\n",
    "hurricane_data = hurricane_data[new_columns]"
   ]
  },
  {
   "cell_type": "code",
   "execution_count": 11,
   "metadata": {},
   "outputs": [
    {
     "data": {
      "text/html": [
       "<div>\n",
       "<style scoped>\n",
       "    .dataframe tbody tr th:only-of-type {\n",
       "        vertical-align: middle;\n",
       "    }\n",
       "\n",
       "    .dataframe tbody tr th {\n",
       "        vertical-align: top;\n",
       "    }\n",
       "\n",
       "    .dataframe thead th {\n",
       "        text-align: right;\n",
       "    }\n",
       "</style>\n",
       "<table border=\"1\" class=\"dataframe\">\n",
       "  <thead>\n",
       "    <tr style=\"text-align: right;\">\n",
       "      <th></th>\n",
       "      <th>Serial_Num (N/A)</th>\n",
       "      <th>Season (Year)</th>\n",
       "      <th>Num (#)</th>\n",
       "      <th>Basin (BB)</th>\n",
       "      <th>Sub_basin (BB)</th>\n",
       "      <th>Name (N/A)</th>\n",
       "      <th>day</th>\n",
       "      <th>month</th>\n",
       "      <th>hour</th>\n",
       "      <th>Nature (N/A)</th>\n",
       "      <th>Latitude (deg_north)</th>\n",
       "      <th>Longitude (deg_east)</th>\n",
       "      <th>Wind(WMO) (kt)</th>\n",
       "      <th>Pres(WMO) (mb)</th>\n",
       "      <th>Center (N/A)</th>\n",
       "      <th>Wind(WMO) Percentile (%)</th>\n",
       "      <th>Pres(WMO) Percentile (%)</th>\n",
       "      <th>Track_type (N/A)</th>\n",
       "    </tr>\n",
       "  </thead>\n",
       "  <tbody>\n",
       "    <tr>\n",
       "      <th>0</th>\n",
       "      <td>1980199N31284</td>\n",
       "      <td>1980</td>\n",
       "      <td>1</td>\n",
       "      <td>NA</td>\n",
       "      <td>MM</td>\n",
       "      <td>UNNAMED</td>\n",
       "      <td>17</td>\n",
       "      <td>7</td>\n",
       "      <td>0</td>\n",
       "      <td>TS</td>\n",
       "      <td>30.5</td>\n",
       "      <td>-76.5</td>\n",
       "      <td>20</td>\n",
       "      <td>0</td>\n",
       "      <td>atcf</td>\n",
       "      <td>0.857</td>\n",
       "      <td>-100.0</td>\n",
       "      <td>main</td>\n",
       "    </tr>\n",
       "    <tr>\n",
       "      <th>1</th>\n",
       "      <td>1980199N31284</td>\n",
       "      <td>1980</td>\n",
       "      <td>1</td>\n",
       "      <td>NA</td>\n",
       "      <td>MM</td>\n",
       "      <td>UNNAMED</td>\n",
       "      <td>17</td>\n",
       "      <td>7</td>\n",
       "      <td>6</td>\n",
       "      <td>TS</td>\n",
       "      <td>30.2</td>\n",
       "      <td>-77.2</td>\n",
       "      <td>25</td>\n",
       "      <td>0</td>\n",
       "      <td>atcf</td>\n",
       "      <td>4.702</td>\n",
       "      <td>-100.0</td>\n",
       "      <td>main</td>\n",
       "    </tr>\n",
       "    <tr>\n",
       "      <th>2</th>\n",
       "      <td>1980199N31284</td>\n",
       "      <td>1980</td>\n",
       "      <td>1</td>\n",
       "      <td>NA</td>\n",
       "      <td>MM</td>\n",
       "      <td>UNNAMED</td>\n",
       "      <td>17</td>\n",
       "      <td>7</td>\n",
       "      <td>12</td>\n",
       "      <td>TS</td>\n",
       "      <td>30.0</td>\n",
       "      <td>-78.0</td>\n",
       "      <td>25</td>\n",
       "      <td>0</td>\n",
       "      <td>atcf</td>\n",
       "      <td>4.702</td>\n",
       "      <td>-100.0</td>\n",
       "      <td>main</td>\n",
       "    </tr>\n",
       "    <tr>\n",
       "      <th>3</th>\n",
       "      <td>1980199N31284</td>\n",
       "      <td>1980</td>\n",
       "      <td>1</td>\n",
       "      <td>NA</td>\n",
       "      <td>MM</td>\n",
       "      <td>UNNAMED</td>\n",
       "      <td>17</td>\n",
       "      <td>7</td>\n",
       "      <td>18</td>\n",
       "      <td>TS</td>\n",
       "      <td>29.9</td>\n",
       "      <td>-79.3</td>\n",
       "      <td>25</td>\n",
       "      <td>0</td>\n",
       "      <td>atcf</td>\n",
       "      <td>4.702</td>\n",
       "      <td>-100.0</td>\n",
       "      <td>main</td>\n",
       "    </tr>\n",
       "    <tr>\n",
       "      <th>4</th>\n",
       "      <td>1980199N31284</td>\n",
       "      <td>1980</td>\n",
       "      <td>1</td>\n",
       "      <td>NA</td>\n",
       "      <td>MM</td>\n",
       "      <td>UNNAMED</td>\n",
       "      <td>18</td>\n",
       "      <td>7</td>\n",
       "      <td>0</td>\n",
       "      <td>TS</td>\n",
       "      <td>29.8</td>\n",
       "      <td>-80.2</td>\n",
       "      <td>25</td>\n",
       "      <td>0</td>\n",
       "      <td>atcf</td>\n",
       "      <td>4.702</td>\n",
       "      <td>-100.0</td>\n",
       "      <td>main</td>\n",
       "    </tr>\n",
       "    <tr>\n",
       "      <th>5</th>\n",
       "      <td>1980199N31284</td>\n",
       "      <td>1980</td>\n",
       "      <td>1</td>\n",
       "      <td>NA</td>\n",
       "      <td>MM</td>\n",
       "      <td>UNNAMED</td>\n",
       "      <td>18</td>\n",
       "      <td>7</td>\n",
       "      <td>6</td>\n",
       "      <td>TS</td>\n",
       "      <td>29.5</td>\n",
       "      <td>-81.1</td>\n",
       "      <td>25</td>\n",
       "      <td>0</td>\n",
       "      <td>atcf</td>\n",
       "      <td>4.702</td>\n",
       "      <td>-100.0</td>\n",
       "      <td>main</td>\n",
       "    </tr>\n",
       "    <tr>\n",
       "      <th>6</th>\n",
       "      <td>1980199N31284</td>\n",
       "      <td>1980</td>\n",
       "      <td>1</td>\n",
       "      <td>NA</td>\n",
       "      <td>MM</td>\n",
       "      <td>UNNAMED</td>\n",
       "      <td>18</td>\n",
       "      <td>7</td>\n",
       "      <td>12</td>\n",
       "      <td>TS</td>\n",
       "      <td>29.5</td>\n",
       "      <td>-82.0</td>\n",
       "      <td>20</td>\n",
       "      <td>0</td>\n",
       "      <td>atcf</td>\n",
       "      <td>0.857</td>\n",
       "      <td>-100.0</td>\n",
       "      <td>main</td>\n",
       "    </tr>\n",
       "    <tr>\n",
       "      <th>7</th>\n",
       "      <td>1980199N31284</td>\n",
       "      <td>1980</td>\n",
       "      <td>1</td>\n",
       "      <td>NA</td>\n",
       "      <td>MM</td>\n",
       "      <td>UNNAMED</td>\n",
       "      <td>18</td>\n",
       "      <td>7</td>\n",
       "      <td>18</td>\n",
       "      <td>TS</td>\n",
       "      <td>29.4</td>\n",
       "      <td>-83.0</td>\n",
       "      <td>20</td>\n",
       "      <td>0</td>\n",
       "      <td>atcf</td>\n",
       "      <td>0.857</td>\n",
       "      <td>-100.0</td>\n",
       "      <td>main</td>\n",
       "    </tr>\n",
       "    <tr>\n",
       "      <th>8</th>\n",
       "      <td>1980199N31284</td>\n",
       "      <td>1980</td>\n",
       "      <td>1</td>\n",
       "      <td>NA</td>\n",
       "      <td>MM</td>\n",
       "      <td>UNNAMED</td>\n",
       "      <td>19</td>\n",
       "      <td>7</td>\n",
       "      <td>0</td>\n",
       "      <td>TS</td>\n",
       "      <td>29.4</td>\n",
       "      <td>-84.0</td>\n",
       "      <td>20</td>\n",
       "      <td>0</td>\n",
       "      <td>atcf</td>\n",
       "      <td>0.857</td>\n",
       "      <td>-100.0</td>\n",
       "      <td>main</td>\n",
       "    </tr>\n",
       "    <tr>\n",
       "      <th>9</th>\n",
       "      <td>1980199N31284</td>\n",
       "      <td>1980</td>\n",
       "      <td>1</td>\n",
       "      <td>NA</td>\n",
       "      <td>MM</td>\n",
       "      <td>UNNAMED</td>\n",
       "      <td>19</td>\n",
       "      <td>7</td>\n",
       "      <td>6</td>\n",
       "      <td>TS</td>\n",
       "      <td>29.5</td>\n",
       "      <td>-84.7</td>\n",
       "      <td>20</td>\n",
       "      <td>0</td>\n",
       "      <td>atcf</td>\n",
       "      <td>0.857</td>\n",
       "      <td>-100.0</td>\n",
       "      <td>main</td>\n",
       "    </tr>\n",
       "    <tr>\n",
       "      <th>10</th>\n",
       "      <td>1980199N31284</td>\n",
       "      <td>1980</td>\n",
       "      <td>1</td>\n",
       "      <td>NA</td>\n",
       "      <td>MM</td>\n",
       "      <td>UNNAMED</td>\n",
       "      <td>19</td>\n",
       "      <td>7</td>\n",
       "      <td>12</td>\n",
       "      <td>TS</td>\n",
       "      <td>29.6</td>\n",
       "      <td>-85.8</td>\n",
       "      <td>25</td>\n",
       "      <td>0</td>\n",
       "      <td>atcf</td>\n",
       "      <td>4.702</td>\n",
       "      <td>-100.0</td>\n",
       "      <td>main</td>\n",
       "    </tr>\n",
       "    <tr>\n",
       "      <th>11</th>\n",
       "      <td>1980199N31284</td>\n",
       "      <td>1980</td>\n",
       "      <td>1</td>\n",
       "      <td>NA</td>\n",
       "      <td>MM</td>\n",
       "      <td>UNNAMED</td>\n",
       "      <td>19</td>\n",
       "      <td>7</td>\n",
       "      <td>18</td>\n",
       "      <td>TS</td>\n",
       "      <td>29.7</td>\n",
       "      <td>-86.4</td>\n",
       "      <td>25</td>\n",
       "      <td>0</td>\n",
       "      <td>atcf</td>\n",
       "      <td>4.702</td>\n",
       "      <td>-100.0</td>\n",
       "      <td>main</td>\n",
       "    </tr>\n",
       "    <tr>\n",
       "      <th>12</th>\n",
       "      <td>1980199N31284</td>\n",
       "      <td>1980</td>\n",
       "      <td>1</td>\n",
       "      <td>NA</td>\n",
       "      <td>MM</td>\n",
       "      <td>UNNAMED</td>\n",
       "      <td>20</td>\n",
       "      <td>7</td>\n",
       "      <td>0</td>\n",
       "      <td>TS</td>\n",
       "      <td>29.8</td>\n",
       "      <td>-87.0</td>\n",
       "      <td>25</td>\n",
       "      <td>0</td>\n",
       "      <td>atcf</td>\n",
       "      <td>4.702</td>\n",
       "      <td>-100.0</td>\n",
       "      <td>main</td>\n",
       "    </tr>\n",
       "    <tr>\n",
       "      <th>13</th>\n",
       "      <td>1980199N31284</td>\n",
       "      <td>1980</td>\n",
       "      <td>1</td>\n",
       "      <td>NA</td>\n",
       "      <td>MM</td>\n",
       "      <td>UNNAMED</td>\n",
       "      <td>20</td>\n",
       "      <td>7</td>\n",
       "      <td>6</td>\n",
       "      <td>TS</td>\n",
       "      <td>29.9</td>\n",
       "      <td>-87.8</td>\n",
       "      <td>25</td>\n",
       "      <td>0</td>\n",
       "      <td>atcf</td>\n",
       "      <td>4.702</td>\n",
       "      <td>-100.0</td>\n",
       "      <td>main</td>\n",
       "    </tr>\n",
       "    <tr>\n",
       "      <th>14</th>\n",
       "      <td>1980199N31284</td>\n",
       "      <td>1980</td>\n",
       "      <td>1</td>\n",
       "      <td>NA</td>\n",
       "      <td>MM</td>\n",
       "      <td>UNNAMED</td>\n",
       "      <td>20</td>\n",
       "      <td>7</td>\n",
       "      <td>12</td>\n",
       "      <td>TS</td>\n",
       "      <td>30.0</td>\n",
       "      <td>-88.5</td>\n",
       "      <td>25</td>\n",
       "      <td>0</td>\n",
       "      <td>atcf</td>\n",
       "      <td>4.702</td>\n",
       "      <td>-100.0</td>\n",
       "      <td>main</td>\n",
       "    </tr>\n",
       "    <tr>\n",
       "      <th>15</th>\n",
       "      <td>1980199N31284</td>\n",
       "      <td>1980</td>\n",
       "      <td>1</td>\n",
       "      <td>NA</td>\n",
       "      <td>MM</td>\n",
       "      <td>UNNAMED</td>\n",
       "      <td>20</td>\n",
       "      <td>7</td>\n",
       "      <td>18</td>\n",
       "      <td>TS</td>\n",
       "      <td>30.4</td>\n",
       "      <td>-89.2</td>\n",
       "      <td>20</td>\n",
       "      <td>0</td>\n",
       "      <td>atcf</td>\n",
       "      <td>0.857</td>\n",
       "      <td>-100.0</td>\n",
       "      <td>main</td>\n",
       "    </tr>\n",
       "    <tr>\n",
       "      <th>16</th>\n",
       "      <td>1980199N31284</td>\n",
       "      <td>1980</td>\n",
       "      <td>1</td>\n",
       "      <td>NA</td>\n",
       "      <td>MM</td>\n",
       "      <td>UNNAMED</td>\n",
       "      <td>21</td>\n",
       "      <td>7</td>\n",
       "      <td>0</td>\n",
       "      <td>TS</td>\n",
       "      <td>30.8</td>\n",
       "      <td>-90.0</td>\n",
       "      <td>0</td>\n",
       "      <td>0</td>\n",
       "      <td>atcf</td>\n",
       "      <td>-100.000</td>\n",
       "      <td>-100.0</td>\n",
       "      <td>main</td>\n",
       "    </tr>\n",
       "    <tr>\n",
       "      <th>17</th>\n",
       "      <td>1980200N25270</td>\n",
       "      <td>1980</td>\n",
       "      <td>2</td>\n",
       "      <td>NA</td>\n",
       "      <td>MM</td>\n",
       "      <td>UNNAMED</td>\n",
       "      <td>17</td>\n",
       "      <td>7</td>\n",
       "      <td>12</td>\n",
       "      <td>TS</td>\n",
       "      <td>25.0</td>\n",
       "      <td>-90.0</td>\n",
       "      <td>20</td>\n",
       "      <td>0</td>\n",
       "      <td>atcf</td>\n",
       "      <td>0.857</td>\n",
       "      <td>-100.0</td>\n",
       "      <td>main</td>\n",
       "    </tr>\n",
       "    <tr>\n",
       "      <th>18</th>\n",
       "      <td>1980200N25270</td>\n",
       "      <td>1980</td>\n",
       "      <td>2</td>\n",
       "      <td>NA</td>\n",
       "      <td>MM</td>\n",
       "      <td>UNNAMED</td>\n",
       "      <td>17</td>\n",
       "      <td>7</td>\n",
       "      <td>18</td>\n",
       "      <td>TS</td>\n",
       "      <td>25.2</td>\n",
       "      <td>-90.4</td>\n",
       "      <td>25</td>\n",
       "      <td>0</td>\n",
       "      <td>atcf</td>\n",
       "      <td>4.702</td>\n",
       "      <td>-100.0</td>\n",
       "      <td>main</td>\n",
       "    </tr>\n",
       "    <tr>\n",
       "      <th>19</th>\n",
       "      <td>1980200N25270</td>\n",
       "      <td>1980</td>\n",
       "      <td>2</td>\n",
       "      <td>NA</td>\n",
       "      <td>MM</td>\n",
       "      <td>UNNAMED</td>\n",
       "      <td>18</td>\n",
       "      <td>7</td>\n",
       "      <td>0</td>\n",
       "      <td>TS</td>\n",
       "      <td>25.4</td>\n",
       "      <td>-90.9</td>\n",
       "      <td>25</td>\n",
       "      <td>0</td>\n",
       "      <td>atcf</td>\n",
       "      <td>4.702</td>\n",
       "      <td>-100.0</td>\n",
       "      <td>main</td>\n",
       "    </tr>\n",
       "    <tr>\n",
       "      <th>20</th>\n",
       "      <td>1980200N25270</td>\n",
       "      <td>1980</td>\n",
       "      <td>2</td>\n",
       "      <td>NA</td>\n",
       "      <td>MM</td>\n",
       "      <td>UNNAMED</td>\n",
       "      <td>18</td>\n",
       "      <td>7</td>\n",
       "      <td>6</td>\n",
       "      <td>TS</td>\n",
       "      <td>25.7</td>\n",
       "      <td>-91.2</td>\n",
       "      <td>30</td>\n",
       "      <td>0</td>\n",
       "      <td>atcf</td>\n",
       "      <td>17.062</td>\n",
       "      <td>-100.0</td>\n",
       "      <td>main</td>\n",
       "    </tr>\n",
       "    <tr>\n",
       "      <th>21</th>\n",
       "      <td>1980200N25270</td>\n",
       "      <td>1980</td>\n",
       "      <td>2</td>\n",
       "      <td>NA</td>\n",
       "      <td>MM</td>\n",
       "      <td>UNNAMED</td>\n",
       "      <td>18</td>\n",
       "      <td>7</td>\n",
       "      <td>12</td>\n",
       "      <td>TS</td>\n",
       "      <td>26.0</td>\n",
       "      <td>-91.8</td>\n",
       "      <td>30</td>\n",
       "      <td>0</td>\n",
       "      <td>atcf</td>\n",
       "      <td>17.062</td>\n",
       "      <td>-100.0</td>\n",
       "      <td>main</td>\n",
       "    </tr>\n",
       "    <tr>\n",
       "      <th>22</th>\n",
       "      <td>1980200N25270</td>\n",
       "      <td>1980</td>\n",
       "      <td>2</td>\n",
       "      <td>NA</td>\n",
       "      <td>MM</td>\n",
       "      <td>UNNAMED</td>\n",
       "      <td>18</td>\n",
       "      <td>7</td>\n",
       "      <td>18</td>\n",
       "      <td>TS</td>\n",
       "      <td>26.2</td>\n",
       "      <td>-92.1</td>\n",
       "      <td>30</td>\n",
       "      <td>0</td>\n",
       "      <td>atcf</td>\n",
       "      <td>17.062</td>\n",
       "      <td>-100.0</td>\n",
       "      <td>main</td>\n",
       "    </tr>\n",
       "    <tr>\n",
       "      <th>23</th>\n",
       "      <td>1980200N25270</td>\n",
       "      <td>1980</td>\n",
       "      <td>2</td>\n",
       "      <td>NA</td>\n",
       "      <td>MM</td>\n",
       "      <td>UNNAMED</td>\n",
       "      <td>19</td>\n",
       "      <td>7</td>\n",
       "      <td>0</td>\n",
       "      <td>TS</td>\n",
       "      <td>26.4</td>\n",
       "      <td>-92.7</td>\n",
       "      <td>30</td>\n",
       "      <td>0</td>\n",
       "      <td>atcf</td>\n",
       "      <td>17.062</td>\n",
       "      <td>-100.0</td>\n",
       "      <td>main</td>\n",
       "    </tr>\n",
       "    <tr>\n",
       "      <th>24</th>\n",
       "      <td>1980200N25270</td>\n",
       "      <td>1980</td>\n",
       "      <td>2</td>\n",
       "      <td>NA</td>\n",
       "      <td>MM</td>\n",
       "      <td>UNNAMED</td>\n",
       "      <td>19</td>\n",
       "      <td>7</td>\n",
       "      <td>6</td>\n",
       "      <td>TS</td>\n",
       "      <td>26.8</td>\n",
       "      <td>-93.0</td>\n",
       "      <td>30</td>\n",
       "      <td>0</td>\n",
       "      <td>atcf</td>\n",
       "      <td>17.062</td>\n",
       "      <td>-100.0</td>\n",
       "      <td>main</td>\n",
       "    </tr>\n",
       "  </tbody>\n",
       "</table>\n",
       "</div>"
      ],
      "text/plain": [
       "   Serial_Num (N/A)  Season (Year)  Num (#) Basin (BB) Sub_basin (BB)  \\\n",
       "0     1980199N31284           1980        1         NA             MM   \n",
       "1     1980199N31284           1980        1         NA             MM   \n",
       "2     1980199N31284           1980        1         NA             MM   \n",
       "3     1980199N31284           1980        1         NA             MM   \n",
       "4     1980199N31284           1980        1         NA             MM   \n",
       "5     1980199N31284           1980        1         NA             MM   \n",
       "6     1980199N31284           1980        1         NA             MM   \n",
       "7     1980199N31284           1980        1         NA             MM   \n",
       "8     1980199N31284           1980        1         NA             MM   \n",
       "9     1980199N31284           1980        1         NA             MM   \n",
       "10    1980199N31284           1980        1         NA             MM   \n",
       "11    1980199N31284           1980        1         NA             MM   \n",
       "12    1980199N31284           1980        1         NA             MM   \n",
       "13    1980199N31284           1980        1         NA             MM   \n",
       "14    1980199N31284           1980        1         NA             MM   \n",
       "15    1980199N31284           1980        1         NA             MM   \n",
       "16    1980199N31284           1980        1         NA             MM   \n",
       "17    1980200N25270           1980        2         NA             MM   \n",
       "18    1980200N25270           1980        2         NA             MM   \n",
       "19    1980200N25270           1980        2         NA             MM   \n",
       "20    1980200N25270           1980        2         NA             MM   \n",
       "21    1980200N25270           1980        2         NA             MM   \n",
       "22    1980200N25270           1980        2         NA             MM   \n",
       "23    1980200N25270           1980        2         NA             MM   \n",
       "24    1980200N25270           1980        2         NA             MM   \n",
       "\n",
       "   Name (N/A)  day  month  hour Nature (N/A)  Latitude (deg_north)  \\\n",
       "0     UNNAMED   17      7     0           TS                  30.5   \n",
       "1     UNNAMED   17      7     6           TS                  30.2   \n",
       "2     UNNAMED   17      7    12           TS                  30.0   \n",
       "3     UNNAMED   17      7    18           TS                  29.9   \n",
       "4     UNNAMED   18      7     0           TS                  29.8   \n",
       "5     UNNAMED   18      7     6           TS                  29.5   \n",
       "6     UNNAMED   18      7    12           TS                  29.5   \n",
       "7     UNNAMED   18      7    18           TS                  29.4   \n",
       "8     UNNAMED   19      7     0           TS                  29.4   \n",
       "9     UNNAMED   19      7     6           TS                  29.5   \n",
       "10    UNNAMED   19      7    12           TS                  29.6   \n",
       "11    UNNAMED   19      7    18           TS                  29.7   \n",
       "12    UNNAMED   20      7     0           TS                  29.8   \n",
       "13    UNNAMED   20      7     6           TS                  29.9   \n",
       "14    UNNAMED   20      7    12           TS                  30.0   \n",
       "15    UNNAMED   20      7    18           TS                  30.4   \n",
       "16    UNNAMED   21      7     0           TS                  30.8   \n",
       "17    UNNAMED   17      7    12           TS                  25.0   \n",
       "18    UNNAMED   17      7    18           TS                  25.2   \n",
       "19    UNNAMED   18      7     0           TS                  25.4   \n",
       "20    UNNAMED   18      7     6           TS                  25.7   \n",
       "21    UNNAMED   18      7    12           TS                  26.0   \n",
       "22    UNNAMED   18      7    18           TS                  26.2   \n",
       "23    UNNAMED   19      7     0           TS                  26.4   \n",
       "24    UNNAMED   19      7     6           TS                  26.8   \n",
       "\n",
       "    Longitude (deg_east)  Wind(WMO) (kt)  Pres(WMO) (mb) Center (N/A)  \\\n",
       "0                  -76.5              20               0         atcf   \n",
       "1                  -77.2              25               0         atcf   \n",
       "2                  -78.0              25               0         atcf   \n",
       "3                  -79.3              25               0         atcf   \n",
       "4                  -80.2              25               0         atcf   \n",
       "5                  -81.1              25               0         atcf   \n",
       "6                  -82.0              20               0         atcf   \n",
       "7                  -83.0              20               0         atcf   \n",
       "8                  -84.0              20               0         atcf   \n",
       "9                  -84.7              20               0         atcf   \n",
       "10                 -85.8              25               0         atcf   \n",
       "11                 -86.4              25               0         atcf   \n",
       "12                 -87.0              25               0         atcf   \n",
       "13                 -87.8              25               0         atcf   \n",
       "14                 -88.5              25               0         atcf   \n",
       "15                 -89.2              20               0         atcf   \n",
       "16                 -90.0               0               0         atcf   \n",
       "17                 -90.0              20               0         atcf   \n",
       "18                 -90.4              25               0         atcf   \n",
       "19                 -90.9              25               0         atcf   \n",
       "20                 -91.2              30               0         atcf   \n",
       "21                 -91.8              30               0         atcf   \n",
       "22                 -92.1              30               0         atcf   \n",
       "23                 -92.7              30               0         atcf   \n",
       "24                 -93.0              30               0         atcf   \n",
       "\n",
       "    Wind(WMO) Percentile (%)  Pres(WMO) Percentile (%) Track_type (N/A)  \n",
       "0                      0.857                    -100.0             main  \n",
       "1                      4.702                    -100.0             main  \n",
       "2                      4.702                    -100.0             main  \n",
       "3                      4.702                    -100.0             main  \n",
       "4                      4.702                    -100.0             main  \n",
       "5                      4.702                    -100.0             main  \n",
       "6                      0.857                    -100.0             main  \n",
       "7                      0.857                    -100.0             main  \n",
       "8                      0.857                    -100.0             main  \n",
       "9                      0.857                    -100.0             main  \n",
       "10                     4.702                    -100.0             main  \n",
       "11                     4.702                    -100.0             main  \n",
       "12                     4.702                    -100.0             main  \n",
       "13                     4.702                    -100.0             main  \n",
       "14                     4.702                    -100.0             main  \n",
       "15                     0.857                    -100.0             main  \n",
       "16                  -100.000                    -100.0             main  \n",
       "17                     0.857                    -100.0             main  \n",
       "18                     4.702                    -100.0             main  \n",
       "19                     4.702                    -100.0             main  \n",
       "20                    17.062                    -100.0             main  \n",
       "21                    17.062                    -100.0             main  \n",
       "22                    17.062                    -100.0             main  \n",
       "23                    17.062                    -100.0             main  \n",
       "24                    17.062                    -100.0             main  "
      ]
     },
     "execution_count": 11,
     "metadata": {},
     "output_type": "execute_result"
    }
   ],
   "source": [
    "hurricane_data.head(10)"
   ]
  },
  {
   "cell_type": "code",
   "execution_count": 12,
   "metadata": {},
   "outputs": [
    {
     "name": "stdout",
     "output_type": "stream",
     "text": [
      "<class 'pandas.core.frame.DataFrame'>\n",
      "RangeIndex: 13665 entries, 0 to 13664\n",
      "Data columns (total 18 columns):\n",
      " #   Column                    Non-Null Count  Dtype  \n",
      "---  ------                    --------------  -----  \n",
      " 0   Serial_Num (N/A)          13665 non-null  object \n",
      " 1   Season (Year)             13665 non-null  int64  \n",
      " 2   Num (#)                   13665 non-null  int64  \n",
      " 3   Basin (BB)                13665 non-null  object \n",
      " 4   Sub_basin (BB)            13665 non-null  object \n",
      " 5   Name (N/A)                13665 non-null  object \n",
      " 6   day                       13665 non-null  int32  \n",
      " 7   month                     13665 non-null  int32  \n",
      " 8   hour                      13665 non-null  int32  \n",
      " 9   Nature (N/A)              13665 non-null  object \n",
      " 10  Latitude (deg_north)      13665 non-null  float64\n",
      " 11  Longitude (deg_east)      13665 non-null  float64\n",
      " 12  Wind(WMO) (kt)            13665 non-null  int64  \n",
      " 13  Pres(WMO) (mb)            13665 non-null  int64  \n",
      " 14  Center (N/A)              13665 non-null  object \n",
      " 15  Wind(WMO) Percentile (%)  13665 non-null  float64\n",
      " 16  Pres(WMO) Percentile (%)  13665 non-null  float64\n",
      " 17  Track_type (N/A)          13665 non-null  object \n",
      "dtypes: float64(4), int32(3), int64(4), object(7)\n",
      "memory usage: 1.7+ MB\n"
     ]
    }
   ],
   "source": [
    "hurricane_data.info()"
   ]
  },
  {
   "cell_type": "code",
   "execution_count": 13,
   "metadata": {},
   "outputs": [
    {
     "data": {
      "text/html": [
       "<div>\n",
       "<style scoped>\n",
       "    .dataframe tbody tr th:only-of-type {\n",
       "        vertical-align: middle;\n",
       "    }\n",
       "\n",
       "    .dataframe tbody tr th {\n",
       "        vertical-align: top;\n",
       "    }\n",
       "\n",
       "    .dataframe thead th {\n",
       "        text-align: right;\n",
       "    }\n",
       "</style>\n",
       "<table border=\"1\" class=\"dataframe\">\n",
       "  <thead>\n",
       "    <tr style=\"text-align: right;\">\n",
       "      <th></th>\n",
       "      <th>Season (Year)</th>\n",
       "      <th>Num (#)</th>\n",
       "      <th>day</th>\n",
       "      <th>month</th>\n",
       "      <th>hour</th>\n",
       "      <th>Latitude (deg_north)</th>\n",
       "      <th>Longitude (deg_east)</th>\n",
       "      <th>Wind(WMO) (kt)</th>\n",
       "      <th>Pres(WMO) (mb)</th>\n",
       "      <th>Wind(WMO) Percentile (%)</th>\n",
       "      <th>Pres(WMO) Percentile (%)</th>\n",
       "    </tr>\n",
       "  </thead>\n",
       "  <tbody>\n",
       "    <tr>\n",
       "      <th>count</th>\n",
       "      <td>13665.000000</td>\n",
       "      <td>13665.000000</td>\n",
       "      <td>13665.000000</td>\n",
       "      <td>13665.000000</td>\n",
       "      <td>13665.000000</td>\n",
       "      <td>13665.000000</td>\n",
       "      <td>13665.000000</td>\n",
       "      <td>13665.000000</td>\n",
       "      <td>13665.000000</td>\n",
       "      <td>13665.000000</td>\n",
       "      <td>13665.000000</td>\n",
       "    </tr>\n",
       "    <tr>\n",
       "      <th>mean</th>\n",
       "      <td>1997.144018</td>\n",
       "      <td>9.364654</td>\n",
       "      <td>15.844566</td>\n",
       "      <td>8.738236</td>\n",
       "      <td>9.082473</td>\n",
       "      <td>26.588408</td>\n",
       "      <td>-62.120095</td>\n",
       "      <td>48.810245</td>\n",
       "      <td>921.161873</td>\n",
       "      <td>44.547622</td>\n",
       "      <td>39.462629</td>\n",
       "    </tr>\n",
       "    <tr>\n",
       "      <th>std</th>\n",
       "      <td>9.126448</td>\n",
       "      <td>5.676807</td>\n",
       "      <td>8.928146</td>\n",
       "      <td>1.337584</td>\n",
       "      <td>6.723069</td>\n",
       "      <td>10.460518</td>\n",
       "      <td>21.010552</td>\n",
       "      <td>25.495429</td>\n",
       "      <td>258.229814</td>\n",
       "      <td>30.555272</td>\n",
       "      <td>48.380011</td>\n",
       "    </tr>\n",
       "    <tr>\n",
       "      <th>min</th>\n",
       "      <td>1980.000000</td>\n",
       "      <td>1.000000</td>\n",
       "      <td>1.000000</td>\n",
       "      <td>1.000000</td>\n",
       "      <td>0.000000</td>\n",
       "      <td>7.200000</td>\n",
       "      <td>-118.300000</td>\n",
       "      <td>0.000000</td>\n",
       "      <td>0.000000</td>\n",
       "      <td>-100.000000</td>\n",
       "      <td>-100.000000</td>\n",
       "    </tr>\n",
       "    <tr>\n",
       "      <th>25%</th>\n",
       "      <td>1989.000000</td>\n",
       "      <td>5.000000</td>\n",
       "      <td>8.000000</td>\n",
       "      <td>8.000000</td>\n",
       "      <td>6.000000</td>\n",
       "      <td>17.900000</td>\n",
       "      <td>-79.000000</td>\n",
       "      <td>30.000000</td>\n",
       "      <td>980.000000</td>\n",
       "      <td>17.062000</td>\n",
       "      <td>16.249000</td>\n",
       "    </tr>\n",
       "    <tr>\n",
       "      <th>50%</th>\n",
       "      <td>1998.000000</td>\n",
       "      <td>9.000000</td>\n",
       "      <td>16.000000</td>\n",
       "      <td>9.000000</td>\n",
       "      <td>12.000000</td>\n",
       "      <td>25.900000</td>\n",
       "      <td>-62.600000</td>\n",
       "      <td>40.000000</td>\n",
       "      <td>998.000000</td>\n",
       "      <td>42.219000</td>\n",
       "      <td>47.972000</td>\n",
       "    </tr>\n",
       "    <tr>\n",
       "      <th>75%</th>\n",
       "      <td>2005.000000</td>\n",
       "      <td>13.000000</td>\n",
       "      <td>24.000000</td>\n",
       "      <td>9.000000</td>\n",
       "      <td>18.000000</td>\n",
       "      <td>33.200000</td>\n",
       "      <td>-46.800000</td>\n",
       "      <td>60.000000</td>\n",
       "      <td>1006.000000</td>\n",
       "      <td>68.918000</td>\n",
       "      <td>74.198000</td>\n",
       "    </tr>\n",
       "    <tr>\n",
       "      <th>max</th>\n",
       "      <td>2011.000000</td>\n",
       "      <td>31.000000</td>\n",
       "      <td>31.000000</td>\n",
       "      <td>12.000000</td>\n",
       "      <td>23.000000</td>\n",
       "      <td>70.700000</td>\n",
       "      <td>13.500000</td>\n",
       "      <td>165.000000</td>\n",
       "      <td>1024.000000</td>\n",
       "      <td>99.997000</td>\n",
       "      <td>99.996000</td>\n",
       "    </tr>\n",
       "  </tbody>\n",
       "</table>\n",
       "</div>"
      ],
      "text/plain": [
       "       Season (Year)       Num (#)           day         month          hour  \\\n",
       "count   13665.000000  13665.000000  13665.000000  13665.000000  13665.000000   \n",
       "mean     1997.144018      9.364654     15.844566      8.738236      9.082473   \n",
       "std         9.126448      5.676807      8.928146      1.337584      6.723069   \n",
       "min      1980.000000      1.000000      1.000000      1.000000      0.000000   \n",
       "25%      1989.000000      5.000000      8.000000      8.000000      6.000000   \n",
       "50%      1998.000000      9.000000     16.000000      9.000000     12.000000   \n",
       "75%      2005.000000     13.000000     24.000000      9.000000     18.000000   \n",
       "max      2011.000000     31.000000     31.000000     12.000000     23.000000   \n",
       "\n",
       "       Latitude (deg_north)  Longitude (deg_east)  Wind(WMO) (kt)  \\\n",
       "count          13665.000000          13665.000000    13665.000000   \n",
       "mean              26.588408            -62.120095       48.810245   \n",
       "std               10.460518             21.010552       25.495429   \n",
       "min                7.200000           -118.300000        0.000000   \n",
       "25%               17.900000            -79.000000       30.000000   \n",
       "50%               25.900000            -62.600000       40.000000   \n",
       "75%               33.200000            -46.800000       60.000000   \n",
       "max               70.700000             13.500000      165.000000   \n",
       "\n",
       "       Pres(WMO) (mb)  Wind(WMO) Percentile (%)  Pres(WMO) Percentile (%)  \n",
       "count    13665.000000              13665.000000              13665.000000  \n",
       "mean       921.161873                 44.547622                 39.462629  \n",
       "std        258.229814                 30.555272                 48.380011  \n",
       "min          0.000000               -100.000000               -100.000000  \n",
       "25%        980.000000                 17.062000                 16.249000  \n",
       "50%        998.000000                 42.219000                 47.972000  \n",
       "75%       1006.000000                 68.918000                 74.198000  \n",
       "max       1024.000000                 99.997000                 99.996000  "
      ]
     },
     "execution_count": 13,
     "metadata": {},
     "output_type": "execute_result"
    }
   ],
   "source": [
    "hurricane_data.describe()"
   ]
  },
  {
   "cell_type": "markdown",
   "metadata": {},
   "source": [
    "#### Visualization"
   ]
  },
  {
   "cell_type": "code",
   "execution_count": 14,
   "metadata": {},
   "outputs": [
    {
     "data": {
      "image/png": "[encoded data removed]",
      "text/plain": [
       "<Figure size 640x480 with 1 Axes>"
      ]
     },
     "metadata": {},
     "output_type": "display_data"
    }
   ],
   "source": [
    "sns.countplot(x='Nature (N/A)', data=hurricane_data)\n",
    "plt.show()"
   ]
  },
  {
   "cell_type": "code",
   "execution_count": 15,
   "metadata": {},
   "outputs": [
    {
     "name": "stderr",
     "output_type": "stream",
     "text": [
      "C:\\Users\\Admin\\AppData\\Local\\Temp\\ipykernel_11460\\2282705627.py:1: UserWarning: Boolean Series key will be reindexed to match DataFrame index.\n",
      "  df = hurricane_data[hurricane_data['Name (N/A)']=='JOSEPHINE'][hurricane_data['Season (Year)']==1996].reset_index(drop=True)\n"
     ]
    }
   ],
   "source": [
    "df = hurricane_data[hurricane_data['Name (N/A)']=='JOSEPHINE'][hurricane_data['Season (Year)']==1996].reset_index(drop=True)"
   ]
  },
  {
   "cell_type": "code",
   "execution_count": 36,
   "metadata": {},
   "outputs": [
    {
     "data": {
      "application/vnd.plotly.v1+json": {
       "config": {
        "plotlyServerURL": "https://plot.ly"
       },
       "data": [
        {
         "name": "wind",
         "type": "scatter",
         "x": [
          0,
          1,
          2,
          3,
          4,
          5,
          6,
          7,
          8,
          9,
          10,
          11,
          12,
          13,
          14,
          15,
          16,
          17,
          18,
          19,
          20,
          21,
          22,
          23,
          24,
          25,
          26,
          27,
          28,
          29,
          30,
          31,
          32,
          33,
          34,
          35,
          36,
          37,
          38,
          39,
          40,
          41,
          42,
          43,
          44,
          45,
          46
         ],
         "xaxis": "x",
         "y": [
          25,
          30,
          30,
          30,
          30,
          30,
          30,
          30,
          35,
          40,
          50,
          60,
          60,
          60,
          60,
          45,
          45,
          45,
          45,
          45,
          45,
          45,
          45,
          45,
          45,
          45,
          45,
          45,
          45,
          45,
          45,
          45,
          45,
          50,
          55,
          60,
          55,
          50,
          45,
          45,
          45,
          45,
          45,
          45,
          40,
          35,
          30
         ],
         "yaxis": "y"
        },
        {
         "name": "pressure",
         "type": "scatter",
         "x": [
          0,
          1,
          2,
          3,
          4,
          5,
          6,
          7,
          8,
          9,
          10,
          11,
          12,
          13,
          14,
          15,
          16,
          17,
          18,
          19,
          20,
          21,
          22,
          23,
          24,
          25,
          26,
          27,
          28,
          29,
          30,
          31,
          32,
          33,
          34,
          35,
          36,
          37,
          38,
          39,
          40,
          41,
          42,
          43,
          44,
          45,
          46
         ],
         "xaxis": "x",
         "y": [
          1003,
          1003,
          1003,
          1003,
          1003,
          1002,
          1002,
          1003,
          1001,
          996,
          992,
          981,
          983,
          983,
          983,
          990,
          988,
          986,
          983,
          980,
          980,
          984,
          985,
          985,
          983,
          984,
          984,
          986,
          988,
          989,
          985,
          980,
          982,
          977,
          973,
          971,
          972,
          977,
          982,
          977,
          972,
          970,
          972,
          978,
          983,
          988,
          992
         ],
         "yaxis": "y2"
        }
       ],
       "layout": {
        "autosize": false,
        "height": 500,
        "template": {
         "data": {
          "bar": [
           {
            "error_x": {
             "color": "#2a3f5f"
            },
            "error_y": {
             "color": "#2a3f5f"
            },
            "marker": {
             "line": {
              "color": "#E5ECF6",
              "width": 0.5
             },
             "pattern": {
              "fillmode": "overlay",
              "size": 10,
              "solidity": 0.2
             }
            },
            "type": "bar"
           }
          ],
          "barpolar": [
           {
            "marker": {
             "line": {
              "color": "#E5ECF6",
              "width": 0.5
             },
             "pattern": {
              "fillmode": "overlay",
              "size": 10,
              "solidity": 0.2
             }
            },
            "type": "barpolar"
           }
          ],
          "carpet": [
           {
            "aaxis": {
             "endlinecolor": "#2a3f5f",
             "gridcolor": "white",
             "linecolor": "white",
             "minorgridcolor": "white",
             "startlinecolor": "#2a3f5f"
            },
            "baxis": {
             "endlinecolor": "#2a3f5f",
             "gridcolor": "white",
             "linecolor": "white",
             "minorgridcolor": "white",
             "startlinecolor": "#2a3f5f"
            },
            "type": "carpet"
           }
          ],
          "choropleth": [
           {
            "colorbar": {
             "outlinewidth": 0,
             "ticks": ""
            },
            "type": "choropleth"
           }
          ],
          "contour": [
           {
            "colorbar": {
             "outlinewidth": 0,
             "ticks": ""
            },
            "colorscale": [
             [
              0,
              "#0d0887"
             ],
             [
              0.1111111111111111,
              "#46039f"
             ],
             [
              0.2222222222222222,
              "#7201a8"
             ],
             [
              0.3333333333333333,
              "#9c179e"
             ],
             [
              0.4444444444444444,
              "#bd3786"
             ],
             [
              0.5555555555555556,
              "#d8576b"
             ],
             [
              0.6666666666666666,
              "#ed7953"
             ],
             [
              0.7777777777777778,
              "#fb9f3a"
             ],
             [
              0.8888888888888888,
              "#fdca26"
             ],
             [
              1,
              "#f0f921"
             ]
            ],
            "type": "contour"
           }
          ],
          "contourcarpet": [
           {
            "colorbar": {
             "outlinewidth": 0,
             "ticks": ""
            },
            "type": "contourcarpet"
           }
          ],
          "heatmap": [
           {
            "colorbar": {
             "outlinewidth": 0,
             "ticks": ""
            },
            "colorscale": [
             [
              0,
              "#0d0887"
             ],
             [
              0.1111111111111111,
              "#46039f"
             ],
             [
              0.2222222222222222,
              "#7201a8"
             ],
             [
              0.3333333333333333,
              "#9c179e"
             ],
             [
              0.4444444444444444,
              "#bd3786"
             ],
             [
              0.5555555555555556,
              "#d8576b"
             ],
             [
              0.6666666666666666,
              "#ed7953"
             ],
             [
              0.7777777777777778,
              "#fb9f3a"
             ],
             [
              0.8888888888888888,
              "#fdca26"
             ],
             [
              1,
              "#f0f921"
             ]
            ],
            "type": "heatmap"
           }
          ],
          "heatmapgl": [
           {
            "colorbar": {
             "outlinewidth": 0,
             "ticks": ""
            },
            "colorscale": [
             [
              0,
              "#0d0887"
             ],
             [
              0.1111111111111111,
              "#46039f"
             ],
             [
              0.2222222222222222,
              "#7201a8"
             ],
             [
              0.3333333333333333,
              "#9c179e"
             ],
             [
              0.4444444444444444,
              "#bd3786"
             ],
             [
              0.5555555555555556,
              "#d8576b"
             ],
             [
              0.6666666666666666,
              "#ed7953"
             ],
             [
              0.7777777777777778,
              "#fb9f3a"
             ],
             [
              0.8888888888888888,
              "#fdca26"
             ],
             [
              1,
              "#f0f921"
             ]
            ],
            "type": "heatmapgl"
           }
          ],
          "histogram": [
           {
            "marker": {
             "pattern": {
              "fillmode": "overlay",
              "size": 10,
              "solidity": 0.2
             }
            },
            "type": "histogram"
           }
          ],
          "histogram2d": [
           {
            "colorbar": {
             "outlinewidth": 0,
             "ticks": ""
            },
            "colorscale": [
             [
              0,
              "#0d0887"
             ],
             [
              0.1111111111111111,
              "#46039f"
             ],
             [
              0.2222222222222222,
              "#7201a8"
             ],
             [
              0.3333333333333333,
              "#9c179e"
             ],
             [
              0.4444444444444444,
              "#bd3786"
             ],
             [
              0.5555555555555556,
              "#d8576b"
             ],
             [
              0.6666666666666666,
              "#ed7953"
             ],
             [
              0.7777777777777778,
              "#fb9f3a"
             ],
             [
              0.8888888888888888,
              "#fdca26"
             ],
             [
              1,
              "#f0f921"
             ]
            ],
            "type": "histogram2d"
           }
          ],
          "histogram2dcontour": [
           {
            "colorbar": {
             "outlinewidth": 0,
             "ticks": ""
            },
            "colorscale": [
             [
              0,
              "#0d0887"
             ],
             [
              0.1111111111111111,
              "#46039f"
             ],
             [
              0.2222222222222222,
              "#7201a8"
             ],
             [
              0.3333333333333333,
              "#9c179e"
             ],
             [
              0.4444444444444444,
              "#bd3786"
             ],
             [
              0.5555555555555556,
              "#d8576b"
             ],
             [
              0.6666666666666666,
              "#ed7953"
             ],
             [
              0.7777777777777778,
              "#fb9f3a"
             ],
             [
              0.8888888888888888,
              "#fdca26"
             ],
             [
              1,
              "#f0f921"
             ]
            ],
            "type": "histogram2dcontour"
           }
          ],
          "mesh3d": [
           {
            "colorbar": {
             "outlinewidth": 0,
             "ticks": ""
            },
            "type": "mesh3d"
           }
          ],
          "parcoords": [
           {
            "line": {
             "colorbar": {
              "outlinewidth": 0,
              "ticks": ""
             }
            },
            "type": "parcoords"
           }
          ],
          "pie": [
           {
            "automargin": true,
            "type": "pie"
           }
          ],
          "scatter": [
           {
            "fillpattern": {
             "fillmode": "overlay",
             "size": 10,
             "solidity": 0.2
            },
            "type": "scatter"
           }
          ],
          "scatter3d": [
           {
            "line": {
             "colorbar": {
              "outlinewidth": 0,
              "ticks": ""
             }
            },
            "marker": {
             "colorbar": {
              "outlinewidth": 0,
              "ticks": ""
             }
            },
            "type": "scatter3d"
           }
          ],
          "scattercarpet": [
           {
            "marker": {
             "colorbar": {
              "outlinewidth": 0,
              "ticks": ""
             }
            },
            "type": "scattercarpet"
           }
          ],
          "scattergeo": [
           {
            "marker": {
             "colorbar": {
              "outlinewidth": 0,
              "ticks": ""
             }
            },
            "type": "scattergeo"
           }
          ],
          "scattergl": [
           {
            "marker": {
             "colorbar": {
              "outlinewidth": 0,
              "ticks": ""
             }
            },
            "type": "scattergl"
           }
          ],
          "scattermapbox": [
           {
            "marker": {
             "colorbar": {
              "outlinewidth": 0,
              "ticks": ""
             }
            },
            "type": "scattermapbox"
           }
          ],
          "scatterpolar": [
           {
            "marker": {
             "colorbar": {
              "outlinewidth": 0,
              "ticks": ""
             }
            },
            "type": "scatterpolar"
           }
          ],
          "scatterpolargl": [
           {
            "marker": {
             "colorbar": {
              "outlinewidth": 0,
              "ticks": ""
             }
            },
            "type": "scatterpolargl"
           }
          ],
          "scatterternary": [
           {
            "marker": {
             "colorbar": {
              "outlinewidth": 0,
              "ticks": ""
             }
            },
            "type": "scatterternary"
           }
          ],
          "surface": [
           {
            "colorbar": {
             "outlinewidth": 0,
             "ticks": ""
            },
            "colorscale": [
             [
              0,
              "#0d0887"
             ],
             [
              0.1111111111111111,
              "#46039f"
             ],
             [
              0.2222222222222222,
              "#7201a8"
             ],
             [
              0.3333333333333333,
              "#9c179e"
             ],
             [
              0.4444444444444444,
              "#bd3786"
             ],
             [
              0.5555555555555556,
              "#d8576b"
             ],
             [
              0.6666666666666666,
              "#ed7953"
             ],
             [
              0.7777777777777778,
              "#fb9f3a"
             ],
             [
              0.8888888888888888,
              "#fdca26"
             ],
             [
              1,
              "#f0f921"
             ]
            ],
            "type": "surface"
           }
          ],
          "table": [
           {
            "cells": {
             "fill": {
              "color": "#EBF0F8"
             },
             "line": {
              "color": "white"
             }
            },
            "header": {
             "fill": {
              "color": "#C8D4E3"
             },
             "line": {
              "color": "white"
             }
            },
            "type": "table"
           }
          ]
         },
         "layout": {
          "annotationdefaults": {
           "arrowcolor": "#2a3f5f",
           "arrowhead": 0,
           "arrowwidth": 1
          },
          "autotypenumbers": "strict",
          "coloraxis": {
           "colorbar": {
            "outlinewidth": 0,
            "ticks": ""
           }
          },
          "colorscale": {
           "diverging": [
            [
             0,
             "#8e0152"
            ],
            [
             0.1,
             "#c51b7d"
            ],
            [
             0.2,
             "#de77ae"
            ],
            [
             0.3,
             "#f1b6da"
            ],
            [
             0.4,
             "#fde0ef"
            ],
            [
             0.5,
             "#f7f7f7"
            ],
            [
             0.6,
             "#e6f5d0"
            ],
            [
             0.7,
             "#b8e186"
            ],
            [
             0.8,
             "#7fbc41"
            ],
            [
             0.9,
             "#4d9221"
            ],
            [
             1,
             "#276419"
            ]
           ],
           "sequential": [
            [
             0,
             "#0d0887"
            ],
            [
             0.1111111111111111,
             "#46039f"
            ],
            [
             0.2222222222222222,
             "#7201a8"
            ],
            [
             0.3333333333333333,
             "#9c179e"
            ],
            [
             0.4444444444444444,
             "#bd3786"
            ],
            [
             0.5555555555555556,
             "#d8576b"
            ],
            [
             0.6666666666666666,
             "#ed7953"
            ],
            [
             0.7777777777777778,
             "#fb9f3a"
            ],
            [
             0.8888888888888888,
             "#fdca26"
            ],
            [
             1,
             "#f0f921"
            ]
           ],
           "sequentialminus": [
            [
             0,
             "#0d0887"
            ],
            [
             0.1111111111111111,
             "#46039f"
            ],
            [
             0.2222222222222222,
             "#7201a8"
            ],
            [
             0.3333333333333333,
             "#9c179e"
            ],
            [
             0.4444444444444444,
             "#bd3786"
            ],
            [
             0.5555555555555556,
             "#d8576b"
            ],
            [
             0.6666666666666666,
             "#ed7953"
            ],
            [
             0.7777777777777778,
             "#fb9f3a"
            ],
            [
             0.8888888888888888,
             "#fdca26"
            ],
            [
             1,
             "#f0f921"
            ]
           ]
          },
          "colorway": [
           "#636efa",
           "#EF553B",
           "#00cc96",
           "#ab63fa",
           "#FFA15A",
           "#19d3f3",
           "#FF6692",
           "#B6E880",
           "#FF97FF",
           "#FECB52"
          ],
          "font": {
           "color": "#2a3f5f"
          },
          "geo": {
           "bgcolor": "white",
           "lakecolor": "white",
           "landcolor": "#E5ECF6",
           "showlakes": true,
           "showland": true,
           "subunitcolor": "white"
          },
          "hoverlabel": {
           "align": "left"
          },
          "hovermode": "closest",
          "mapbox": {
           "style": "light"
          },
          "paper_bgcolor": "white",
          "plot_bgcolor": "#E5ECF6",
          "polar": {
           "angularaxis": {
            "gridcolor": "white",
            "linecolor": "white",
            "ticks": ""
           },
           "bgcolor": "#E5ECF6",
           "radialaxis": {
            "gridcolor": "white",
            "linecolor": "white",
            "ticks": ""
           }
          },
          "scene": {
           "xaxis": {
            "backgroundcolor": "#E5ECF6",
            "gridcolor": "white",
            "gridwidth": 2,
            "linecolor": "white",
            "showbackground": true,
            "ticks": "",
            "zerolinecolor": "white"
           },
           "yaxis": {
            "backgroundcolor": "#E5ECF6",
            "gridcolor": "white",
            "gridwidth": 2,
            "linecolor": "white",
            "showbackground": true,
            "ticks": "",
            "zerolinecolor": "white"
           },
           "zaxis": {
            "backgroundcolor": "#E5ECF6",
            "gridcolor": "white",
            "gridwidth": 2,
            "linecolor": "white",
            "showbackground": true,
            "ticks": "",
            "zerolinecolor": "white"
           }
          },
          "shapedefaults": {
           "line": {
            "color": "#2a3f5f"
           }
          },
          "ternary": {
           "aaxis": {
            "gridcolor": "white",
            "linecolor": "white",
            "ticks": ""
           },
           "baxis": {
            "gridcolor": "white",
            "linecolor": "white",
            "ticks": ""
           },
           "bgcolor": "#E5ECF6",
           "caxis": {
            "gridcolor": "white",
            "linecolor": "white",
            "ticks": ""
           }
          },
          "title": {
           "x": 0.05
          },
          "xaxis": {
           "automargin": true,
           "gridcolor": "white",
           "linecolor": "white",
           "ticks": "",
           "title": {
            "standoff": 15
           },
           "zerolinecolor": "white",
           "zerolinewidth": 2
          },
          "yaxis": {
           "automargin": true,
           "gridcolor": "white",
           "linecolor": "white",
           "ticks": "",
           "title": {
            "standoff": 15
           },
           "zerolinecolor": "white",
           "zerolinewidth": 2
          }
         }
        },
        "title": {
         "text": "Wind and Pressure"
        },
        "width": 700,
        "xaxis": {
         "anchor": "y",
         "domain": [
          0,
          0.94
         ],
         "title": {
          "text": "index of 6hr interval"
         }
        },
        "yaxis": {
         "anchor": "x",
         "domain": [
          0,
          1
         ],
         "title": {
          "text": "Wind"
         }
        },
        "yaxis2": {
         "anchor": "x",
         "overlaying": "y",
         "side": "right",
         "title": {
          "text": "Pressure"
         }
        }
       }
      }
     },
     "metadata": {},
     "output_type": "display_data"
    }
   ],
   "source": [
    "fig=make_subplots(specs=[[{\"secondary_y\":True}]])\n",
    "fig.add_trace(go.Scatter(x=df.index,y=df['Wind(WMO) (kt)'],name='wind'),secondary_y=False,)\n",
    "fig.add_trace(go.Scatter(x=df.index,y=df['Pres(WMO) (mb)'],name='pressure'),secondary_y=True,)\n",
    "fig.update_layout(autosize=False,width=700,height=500,title_text=\"Wind and Pressure\")\n",
    "fig.update_xaxes(title_text='index of 6hr interval')\n",
    "fig.update_yaxes(title_text=\"Wind\",secondary_y=False)\n",
    "fig.update_yaxes(title_text=\"Pressure\",secondary_y=True)\n",
    "fig.show()"
   ]
  },
  {
   "cell_type": "markdown",
   "metadata": {},
   "source": [
    "### Exposures"
   ]
  },
  {
   "cell_type": "markdown",
   "metadata": {},
   "source": [
    "| Variable Name           | Units       | Description |\n",
    "|-------------------------|-------------|-------------|\n",
    "| **Location**            |             | Unique identifier for the location of the exposure. |\n",
    "| **Latitude**            | degrees     | Latitude coordinate of the exposure location. |\n",
    "| **Longitude**           | degrees     | Longitude coordinate of the exposure location. |\n",
    "| **Multi-Story?**        |             | Indicates whether the exposure is a multi-story building (Yes/No). |\n",
    "| **Total Insured Value** | currency    | The total value insured for the exposure. |\n",
    "| **Premium**             | currency    | The amount paid for the insurance policy. |\n",
    "| **Losses - Non Catastrophe** | currency | Financial losses not related to catastrophes. |\n",
    "| **PolicyYear**          | year        | The year the insurance policy was issued or is in effect. |\n",
    "| **PolicyResultLookup**  |             | Lookup value related to the result of the policy |\n",
    "| **LocationLookup**      |             | Lookup value related to the location |\n"
   ]
  },
  {
   "cell_type": "code",
   "execution_count": 17,
   "metadata": {},
   "outputs": [
    {
     "data": {
      "text/html": [
       "<div>\n",
       "<style scoped>\n",
       "    .dataframe tbody tr th:only-of-type {\n",
       "        vertical-align: middle;\n",
       "    }\n",
       "\n",
       "    .dataframe tbody tr th {\n",
       "        vertical-align: top;\n",
       "    }\n",
       "\n",
       "    .dataframe thead th {\n",
       "        text-align: right;\n",
       "    }\n",
       "</style>\n",
       "<table border=\"1\" class=\"dataframe\">\n",
       "  <thead>\n",
       "    <tr style=\"text-align: right;\">\n",
       "      <th></th>\n",
       "      <th>Location</th>\n",
       "      <th>Latitude</th>\n",
       "      <th>Longitude</th>\n",
       "      <th>Multi-Story?</th>\n",
       "      <th>Total Insured Value</th>\n",
       "      <th>Premium</th>\n",
       "      <th>Losses - Non Catastrophe</th>\n",
       "      <th>PolicyYear</th>\n",
       "      <th>PolicyResultLookup</th>\n",
       "      <th>LocationLookup</th>\n",
       "    </tr>\n",
       "  </thead>\n",
       "  <tbody>\n",
       "    <tr>\n",
       "      <th>0</th>\n",
       "      <td>1</td>\n",
       "      <td>19.0</td>\n",
       "      <td>-100.1</td>\n",
       "      <td>No</td>\n",
       "      <td>290,874</td>\n",
       "      <td>2,644</td>\n",
       "      <td>68,987</td>\n",
       "      <td>1980</td>\n",
       "      <td>1980 - 1</td>\n",
       "      <td>19-100.1</td>\n",
       "    </tr>\n",
       "    <tr>\n",
       "      <th>1</th>\n",
       "      <td>1</td>\n",
       "      <td>19.0</td>\n",
       "      <td>-100.1</td>\n",
       "      <td>No</td>\n",
       "      <td>296,488</td>\n",
       "      <td>2,697</td>\n",
       "      <td>0</td>\n",
       "      <td>1981</td>\n",
       "      <td>1981 - 1</td>\n",
       "      <td>19-100.1</td>\n",
       "    </tr>\n",
       "    <tr>\n",
       "      <th>2</th>\n",
       "      <td>1</td>\n",
       "      <td>19.0</td>\n",
       "      <td>-100.1</td>\n",
       "      <td>No</td>\n",
       "      <td>301,944</td>\n",
       "      <td>2,751</td>\n",
       "      <td>0</td>\n",
       "      <td>1982</td>\n",
       "      <td>1982 - 1</td>\n",
       "      <td>19-100.1</td>\n",
       "    </tr>\n",
       "    <tr>\n",
       "      <th>3</th>\n",
       "      <td>1</td>\n",
       "      <td>19.0</td>\n",
       "      <td>-100.1</td>\n",
       "      <td>No</td>\n",
       "      <td>308,254</td>\n",
       "      <td>2,806</td>\n",
       "      <td>0</td>\n",
       "      <td>1983</td>\n",
       "      <td>1983 - 1</td>\n",
       "      <td>19-100.1</td>\n",
       "    </tr>\n",
       "    <tr>\n",
       "      <th>4</th>\n",
       "      <td>1</td>\n",
       "      <td>19.0</td>\n",
       "      <td>-100.1</td>\n",
       "      <td>No</td>\n",
       "      <td>313,433</td>\n",
       "      <td>2,862</td>\n",
       "      <td>0</td>\n",
       "      <td>1984</td>\n",
       "      <td>1984 - 1</td>\n",
       "      <td>19-100.1</td>\n",
       "    </tr>\n",
       "    <tr>\n",
       "      <th>5</th>\n",
       "      <td>1</td>\n",
       "      <td>19.0</td>\n",
       "      <td>-100.1</td>\n",
       "      <td>No</td>\n",
       "      <td>318,636</td>\n",
       "      <td>2,919</td>\n",
       "      <td>0</td>\n",
       "      <td>1985</td>\n",
       "      <td>1985 - 1</td>\n",
       "      <td>19-100.1</td>\n",
       "    </tr>\n",
       "    <tr>\n",
       "      <th>6</th>\n",
       "      <td>1</td>\n",
       "      <td>19.0</td>\n",
       "      <td>-100.1</td>\n",
       "      <td>No</td>\n",
       "      <td>326,315</td>\n",
       "      <td>2,977</td>\n",
       "      <td>0</td>\n",
       "      <td>1986</td>\n",
       "      <td>1986 - 1</td>\n",
       "      <td>19-100.1</td>\n",
       "    </tr>\n",
       "    <tr>\n",
       "      <th>7</th>\n",
       "      <td>1</td>\n",
       "      <td>19.0</td>\n",
       "      <td>-100.1</td>\n",
       "      <td>No</td>\n",
       "      <td>331,242</td>\n",
       "      <td>3,037</td>\n",
       "      <td>0</td>\n",
       "      <td>1987</td>\n",
       "      <td>1987 - 1</td>\n",
       "      <td>19-100.1</td>\n",
       "    </tr>\n",
       "    <tr>\n",
       "      <th>8</th>\n",
       "      <td>1</td>\n",
       "      <td>19.0</td>\n",
       "      <td>-100.1</td>\n",
       "      <td>No</td>\n",
       "      <td>336,443</td>\n",
       "      <td>3,098</td>\n",
       "      <td>0</td>\n",
       "      <td>1988</td>\n",
       "      <td>1988 - 1</td>\n",
       "      <td>19-100.1</td>\n",
       "    </tr>\n",
       "    <tr>\n",
       "      <th>9</th>\n",
       "      <td>1</td>\n",
       "      <td>19.0</td>\n",
       "      <td>-100.1</td>\n",
       "      <td>No</td>\n",
       "      <td>344,686</td>\n",
       "      <td>3,159</td>\n",
       "      <td>0</td>\n",
       "      <td>1989</td>\n",
       "      <td>1989 - 1</td>\n",
       "      <td>19-100.1</td>\n",
       "    </tr>\n",
       "    <tr>\n",
       "      <th>10</th>\n",
       "      <td>1</td>\n",
       "      <td>19.0</td>\n",
       "      <td>-100.1</td>\n",
       "      <td>No</td>\n",
       "      <td>352,303</td>\n",
       "      <td>3,223</td>\n",
       "      <td>0</td>\n",
       "      <td>1990</td>\n",
       "      <td>1990 - 1</td>\n",
       "      <td>19-100.1</td>\n",
       "    </tr>\n",
       "    <tr>\n",
       "      <th>11</th>\n",
       "      <td>1</td>\n",
       "      <td>19.0</td>\n",
       "      <td>-100.1</td>\n",
       "      <td>No</td>\n",
       "      <td>360,723</td>\n",
       "      <td>3,287</td>\n",
       "      <td>0</td>\n",
       "      <td>1991</td>\n",
       "      <td>1991 - 1</td>\n",
       "      <td>19-100.1</td>\n",
       "    </tr>\n",
       "    <tr>\n",
       "      <th>12</th>\n",
       "      <td>1</td>\n",
       "      <td>19.0</td>\n",
       "      <td>-100.1</td>\n",
       "      <td>No</td>\n",
       "      <td>367,577</td>\n",
       "      <td>3,353</td>\n",
       "      <td>0</td>\n",
       "      <td>1992</td>\n",
       "      <td>1992 - 1</td>\n",
       "      <td>19-100.1</td>\n",
       "    </tr>\n",
       "    <tr>\n",
       "      <th>13</th>\n",
       "      <td>1</td>\n",
       "      <td>19.0</td>\n",
       "      <td>-100.1</td>\n",
       "      <td>No</td>\n",
       "      <td>373,532</td>\n",
       "      <td>3,420</td>\n",
       "      <td>0</td>\n",
       "      <td>1993</td>\n",
       "      <td>1993 - 1</td>\n",
       "      <td>19-100.1</td>\n",
       "    </tr>\n",
       "    <tr>\n",
       "      <th>14</th>\n",
       "      <td>2</td>\n",
       "      <td>7.2</td>\n",
       "      <td>-74.4</td>\n",
       "      <td>No</td>\n",
       "      <td>259,184</td>\n",
       "      <td>1,970</td>\n",
       "      <td>0</td>\n",
       "      <td>1980</td>\n",
       "      <td>1980 - 2</td>\n",
       "      <td>7.2-74.4</td>\n",
       "    </tr>\n",
       "    <tr>\n",
       "      <th>15</th>\n",
       "      <td>2</td>\n",
       "      <td>7.2</td>\n",
       "      <td>-74.4</td>\n",
       "      <td>No</td>\n",
       "      <td>265,249</td>\n",
       "      <td>2,010</td>\n",
       "      <td>0</td>\n",
       "      <td>1981</td>\n",
       "      <td>1981 - 2</td>\n",
       "      <td>7.2-74.4</td>\n",
       "    </tr>\n",
       "    <tr>\n",
       "      <th>16</th>\n",
       "      <td>2</td>\n",
       "      <td>7.2</td>\n",
       "      <td>-74.4</td>\n",
       "      <td>No</td>\n",
       "      <td>271,244</td>\n",
       "      <td>2,050</td>\n",
       "      <td>0</td>\n",
       "      <td>1982</td>\n",
       "      <td>1982 - 2</td>\n",
       "      <td>7.2-74.4</td>\n",
       "    </tr>\n",
       "    <tr>\n",
       "      <th>17</th>\n",
       "      <td>2</td>\n",
       "      <td>7.2</td>\n",
       "      <td>-74.4</td>\n",
       "      <td>No</td>\n",
       "      <td>277,781</td>\n",
       "      <td>2,091</td>\n",
       "      <td>0</td>\n",
       "      <td>1983</td>\n",
       "      <td>1983 - 2</td>\n",
       "      <td>7.2-74.4</td>\n",
       "    </tr>\n",
       "    <tr>\n",
       "      <th>18</th>\n",
       "      <td>2</td>\n",
       "      <td>7.2</td>\n",
       "      <td>-74.4</td>\n",
       "      <td>No</td>\n",
       "      <td>283,864</td>\n",
       "      <td>2,133</td>\n",
       "      <td>0</td>\n",
       "      <td>1984</td>\n",
       "      <td>1984 - 2</td>\n",
       "      <td>7.2-74.4</td>\n",
       "    </tr>\n",
       "    <tr>\n",
       "      <th>19</th>\n",
       "      <td>2</td>\n",
       "      <td>7.2</td>\n",
       "      <td>-74.4</td>\n",
       "      <td>No</td>\n",
       "      <td>289,002</td>\n",
       "      <td>2,175</td>\n",
       "      <td>0</td>\n",
       "      <td>1985</td>\n",
       "      <td>1985 - 2</td>\n",
       "      <td>7.2-74.4</td>\n",
       "    </tr>\n",
       "    <tr>\n",
       "      <th>20</th>\n",
       "      <td>2</td>\n",
       "      <td>7.2</td>\n",
       "      <td>-74.4</td>\n",
       "      <td>No</td>\n",
       "      <td>295,967</td>\n",
       "      <td>2,219</td>\n",
       "      <td>0</td>\n",
       "      <td>1986</td>\n",
       "      <td>1986 - 2</td>\n",
       "      <td>7.2-74.4</td>\n",
       "    </tr>\n",
       "    <tr>\n",
       "      <th>21</th>\n",
       "      <td>3</td>\n",
       "      <td>22.9</td>\n",
       "      <td>-74.5</td>\n",
       "      <td>Yes</td>\n",
       "      <td>1,112,660</td>\n",
       "      <td>2,478</td>\n",
       "      <td>0</td>\n",
       "      <td>1980</td>\n",
       "      <td>1980 - 3</td>\n",
       "      <td>22.9-74.5</td>\n",
       "    </tr>\n",
       "    <tr>\n",
       "      <th>22</th>\n",
       "      <td>3</td>\n",
       "      <td>22.9</td>\n",
       "      <td>-74.5</td>\n",
       "      <td>Yes</td>\n",
       "      <td>1,139,364</td>\n",
       "      <td>2,528</td>\n",
       "      <td>0</td>\n",
       "      <td>1981</td>\n",
       "      <td>1981 - 3</td>\n",
       "      <td>22.9-74.5</td>\n",
       "    </tr>\n",
       "    <tr>\n",
       "      <th>23</th>\n",
       "      <td>3</td>\n",
       "      <td>22.9</td>\n",
       "      <td>-74.5</td>\n",
       "      <td>Yes</td>\n",
       "      <td>1,158,163</td>\n",
       "      <td>2,578</td>\n",
       "      <td>0</td>\n",
       "      <td>1982</td>\n",
       "      <td>1982 - 3</td>\n",
       "      <td>22.9-74.5</td>\n",
       "    </tr>\n",
       "    <tr>\n",
       "      <th>24</th>\n",
       "      <td>3</td>\n",
       "      <td>22.9</td>\n",
       "      <td>-74.5</td>\n",
       "      <td>Yes</td>\n",
       "      <td>1,183,180</td>\n",
       "      <td>2,630</td>\n",
       "      <td>0</td>\n",
       "      <td>1983</td>\n",
       "      <td>1983 - 3</td>\n",
       "      <td>22.9-74.5</td>\n",
       "    </tr>\n",
       "  </tbody>\n",
       "</table>\n",
       "</div>"
      ],
      "text/plain": [
       "    Location  Latitude  Longitude Multi-Story? Total Insured Value Premium  \\\n",
       "0          1      19.0     -100.1           No             290,874   2,644   \n",
       "1          1      19.0     -100.1           No             296,488   2,697   \n",
       "2          1      19.0     -100.1           No             301,944   2,751   \n",
       "3          1      19.0     -100.1           No             308,254   2,806   \n",
       "4          1      19.0     -100.1           No             313,433   2,862   \n",
       "5          1      19.0     -100.1           No             318,636   2,919   \n",
       "6          1      19.0     -100.1           No             326,315   2,977   \n",
       "7          1      19.0     -100.1           No             331,242   3,037   \n",
       "8          1      19.0     -100.1           No             336,443   3,098   \n",
       "9          1      19.0     -100.1           No             344,686   3,159   \n",
       "10         1      19.0     -100.1           No             352,303   3,223   \n",
       "11         1      19.0     -100.1           No             360,723   3,287   \n",
       "12         1      19.0     -100.1           No             367,577   3,353   \n",
       "13         1      19.0     -100.1           No             373,532   3,420   \n",
       "14         2       7.2      -74.4           No             259,184   1,970   \n",
       "15         2       7.2      -74.4           No             265,249   2,010   \n",
       "16         2       7.2      -74.4           No             271,244   2,050   \n",
       "17         2       7.2      -74.4           No             277,781   2,091   \n",
       "18         2       7.2      -74.4           No             283,864   2,133   \n",
       "19         2       7.2      -74.4           No             289,002   2,175   \n",
       "20         2       7.2      -74.4           No             295,967   2,219   \n",
       "21         3      22.9      -74.5          Yes           1,112,660   2,478   \n",
       "22         3      22.9      -74.5          Yes           1,139,364   2,528   \n",
       "23         3      22.9      -74.5          Yes           1,158,163   2,578   \n",
       "24         3      22.9      -74.5          Yes           1,183,180   2,630   \n",
       "\n",
       "   Losses - Non Catastrophe PolicyYear PolicyResultLookup LocationLookup  \n",
       "0                    68,987       1980           1980 - 1       19-100.1  \n",
       "1                         0       1981           1981 - 1       19-100.1  \n",
       "2                         0       1982           1982 - 1       19-100.1  \n",
       "3                         0       1983           1983 - 1       19-100.1  \n",
       "4                         0       1984           1984 - 1       19-100.1  \n",
       "5                         0       1985           1985 - 1       19-100.1  \n",
       "6                         0       1986           1986 - 1       19-100.1  \n",
       "7                         0       1987           1987 - 1       19-100.1  \n",
       "8                         0       1988           1988 - 1       19-100.1  \n",
       "9                         0       1989           1989 - 1       19-100.1  \n",
       "10                        0       1990           1990 - 1       19-100.1  \n",
       "11                        0       1991           1991 - 1       19-100.1  \n",
       "12                        0       1992           1992 - 1       19-100.1  \n",
       "13                        0       1993           1993 - 1       19-100.1  \n",
       "14                        0       1980           1980 - 2       7.2-74.4  \n",
       "15                        0       1981           1981 - 2       7.2-74.4  \n",
       "16                        0       1982           1982 - 2       7.2-74.4  \n",
       "17                        0       1983           1983 - 2       7.2-74.4  \n",
       "18                        0       1984           1984 - 2       7.2-74.4  \n",
       "19                        0       1985           1985 - 2       7.2-74.4  \n",
       "20                        0       1986           1986 - 2       7.2-74.4  \n",
       "21                        0       1980           1980 - 3      22.9-74.5  \n",
       "22                        0       1981           1981 - 3      22.9-74.5  \n",
       "23                        0       1982           1982 - 3      22.9-74.5  \n",
       "24                        0       1983           1983 - 3      22.9-74.5  "
      ]
     },
     "execution_count": 17,
     "metadata": {},
     "output_type": "execute_result"
    }
   ],
   "source": [
    "exposures_data.head(10)\n"
   ]
  },
  {
   "cell_type": "code",
   "execution_count": 18,
   "metadata": {},
   "outputs": [
    {
     "data": {
      "text/plain": [
       "(1257, 10)"
      ]
     },
     "execution_count": 18,
     "metadata": {},
     "output_type": "execute_result"
    }
   ],
   "source": [
    "exposures_data.shape"
   ]
  },
  {
   "cell_type": "code",
   "execution_count": 19,
   "metadata": {},
   "outputs": [
    {
     "name": "stdout",
     "output_type": "stream",
     "text": [
      "<class 'pandas.core.frame.DataFrame'>\n",
      "RangeIndex: 1257 entries, 0 to 1256\n",
      "Data columns (total 10 columns):\n",
      " #   Column                    Non-Null Count  Dtype  \n",
      "---  ------                    --------------  -----  \n",
      " 0   Location                  1257 non-null   int64  \n",
      " 1   Latitude                  1257 non-null   float64\n",
      " 2   Longitude                 1257 non-null   float64\n",
      " 3   Multi-Story?              1257 non-null   object \n",
      " 4   Total Insured Value       1257 non-null   object \n",
      " 5   Premium                   1257 non-null   object \n",
      " 6   Losses - Non Catastrophe  1257 non-null   object \n",
      " 7   PolicyYear                1257 non-null   object \n",
      " 8   PolicyResultLookup        1257 non-null   object \n",
      " 9   LocationLookup            1257 non-null   object \n",
      "dtypes: float64(2), int64(1), object(7)\n",
      "memory usage: 98.3+ KB\n"
     ]
    }
   ],
   "source": [
    "exposures_data.info()"
   ]
  },
  {
   "cell_type": "code",
   "execution_count": 21,
   "metadata": {},
   "outputs": [
    {
     "data": {
      "text/plain": [
       "Location                    0\n",
       "Latitude                    0\n",
       "Longitude                   0\n",
       "Multi-Story?                0\n",
       "Total Insured Value         0\n",
       "Premium                     0\n",
       "Losses - Non Catastrophe    0\n",
       "PolicyYear                  0\n",
       "PolicyResultLookup          0\n",
       "LocationLookup              0\n",
       "dtype: int64"
      ]
     },
     "execution_count": 21,
     "metadata": {},
     "output_type": "execute_result"
    }
   ],
   "source": [
    "#Check any NA value in the dataset\n",
    "exposures_data.isnull().sum()"
   ]
  },
  {
   "cell_type": "code",
   "execution_count": 22,
   "metadata": {},
   "outputs": [],
   "source": [
    "# Correct Data Format\n",
    "adjusted_cols = [\"Total Insured Value\", \"Premium\",\"Losses - Non Catastrophe\",\"PolicyYear\"]\n",
    "for col in adjusted_cols:\n",
    "    exposures_data[col] = exposures_data[col].str.replace(',', '').astype(int)"
   ]
  },
  {
   "cell_type": "code",
   "execution_count": 20,
   "metadata": {},
   "outputs": [
    {
     "data": {
      "text/html": [
       "<div>\n",
       "<style scoped>\n",
       "    .dataframe tbody tr th:only-of-type {\n",
       "        vertical-align: middle;\n",
       "    }\n",
       "\n",
       "    .dataframe tbody tr th {\n",
       "        vertical-align: top;\n",
       "    }\n",
       "\n",
       "    .dataframe thead th {\n",
       "        text-align: right;\n",
       "    }\n",
       "</style>\n",
       "<table border=\"1\" class=\"dataframe\">\n",
       "  <thead>\n",
       "    <tr style=\"text-align: right;\">\n",
       "      <th></th>\n",
       "      <th>Location</th>\n",
       "      <th>Latitude</th>\n",
       "      <th>Longitude</th>\n",
       "    </tr>\n",
       "  </thead>\n",
       "  <tbody>\n",
       "    <tr>\n",
       "      <th>count</th>\n",
       "      <td>1257.000000</td>\n",
       "      <td>1257.000000</td>\n",
       "      <td>1257.000000</td>\n",
       "    </tr>\n",
       "    <tr>\n",
       "      <th>mean</th>\n",
       "      <td>45.622116</td>\n",
       "      <td>24.448528</td>\n",
       "      <td>-62.049324</td>\n",
       "    </tr>\n",
       "    <tr>\n",
       "      <th>std</th>\n",
       "      <td>29.609286</td>\n",
       "      <td>9.539034</td>\n",
       "      <td>20.172962</td>\n",
       "    </tr>\n",
       "    <tr>\n",
       "      <th>min</th>\n",
       "      <td>1.000000</td>\n",
       "      <td>7.200000</td>\n",
       "      <td>-100.100000</td>\n",
       "    </tr>\n",
       "    <tr>\n",
       "      <th>25%</th>\n",
       "      <td>19.000000</td>\n",
       "      <td>15.900000</td>\n",
       "      <td>-78.900000</td>\n",
       "    </tr>\n",
       "    <tr>\n",
       "      <th>50%</th>\n",
       "      <td>40.000000</td>\n",
       "      <td>26.300000</td>\n",
       "      <td>-63.400000</td>\n",
       "    </tr>\n",
       "    <tr>\n",
       "      <th>75%</th>\n",
       "      <td>72.000000</td>\n",
       "      <td>31.400000</td>\n",
       "      <td>-45.200000</td>\n",
       "    </tr>\n",
       "    <tr>\n",
       "      <th>max</th>\n",
       "      <td>100.000000</td>\n",
       "      <td>46.200000</td>\n",
       "      <td>-27.400000</td>\n",
       "    </tr>\n",
       "  </tbody>\n",
       "</table>\n",
       "</div>"
      ],
      "text/plain": [
       "          Location     Latitude    Longitude\n",
       "count  1257.000000  1257.000000  1257.000000\n",
       "mean     45.622116    24.448528   -62.049324\n",
       "std      29.609286     9.539034    20.172962\n",
       "min       1.000000     7.200000  -100.100000\n",
       "25%      19.000000    15.900000   -78.900000\n",
       "50%      40.000000    26.300000   -63.400000\n",
       "75%      72.000000    31.400000   -45.200000\n",
       "max     100.000000    46.200000   -27.400000"
      ]
     },
     "execution_count": 20,
     "metadata": {},
     "output_type": "execute_result"
    }
   ],
   "source": [
    "exposures_data.describe()"
   ]
  },
  {
   "cell_type": "markdown",
   "metadata": {},
   "source": [
    "We want to check if location wass at risk by checking if location coordinate was inside hurricane coordinates\n",
    "The area of location we assume is within 1 radius from latitude and longitude"
   ]
  },
  {
   "cell_type": "code",
   "execution_count": 23,
   "metadata": {},
   "outputs": [],
   "source": [
    "def check_at_risk(row):\n",
    "    lat_min = row['Latitude'] - 1\n",
    "    lat_max = row['Latitude'] + 1\n",
    "    long_min = row['Longitude'] - 1\n",
    "    long_max = row['Longitude'] + 1\n",
    "    count = len(hurricane_data[(hurricane_data['Latitude (deg_north)'] < lat_max) &\n",
    "                               (hurricane_data['Latitude (deg_north)'] > lat_min) &\n",
    "                               (hurricane_data['Longitude (deg_east)'] < long_max) &\n",
    "                               (hurricane_data['Longitude (deg_east)'] > long_min)])\n",
    "    return \"At Risk\" if count > 0 else \"Not At Risk\"\n",
    "\n",
    "exposures_data['At Risk?'] = exposures_data.apply(check_at_risk, axis=1)"
   ]
  },
  {
   "cell_type": "markdown",
   "metadata": {},
   "source": [
    "Now we create a new variable for location region."
   ]
  },
  {
   "cell_type": "code",
   "execution_count": 24,
   "metadata": {},
   "outputs": [],
   "source": [
    "region_mapping = pd.read_csv('Region mapping.csv')\n",
    "\n",
    "# Define a function to determine the region\n",
    "def get_region(row):\n",
    "    if row['Longitude'] < region_mapping.loc[3, 'Longitude Boundary Eastern End']:\n",
    "        return 'West'\n",
    "    elif row['Latitude'] < region_mapping.loc[0, 'Latitude Boundary Northern End']:\n",
    "        return 'South'\n",
    "    elif row['Longitude'] < region_mapping.loc[2, 'Longitude Boundary Eastern End']:\n",
    "        return 'Midwest'\n",
    "    else:\n",
    "        return 'Northeast'"
   ]
  },
  {
   "cell_type": "code",
   "execution_count": 25,
   "metadata": {},
   "outputs": [],
   "source": [
    "exposures_data['Region'] = exposures_data.apply(get_region, axis=1\n",
    ")"
   ]
  },
  {
   "cell_type": "code",
   "execution_count": 26,
   "metadata": {},
   "outputs": [
    {
     "data": {
      "text/html": [
       "<div>\n",
       "<style scoped>\n",
       "    .dataframe tbody tr th:only-of-type {\n",
       "        vertical-align: middle;\n",
       "    }\n",
       "\n",
       "    .dataframe tbody tr th {\n",
       "        vertical-align: top;\n",
       "    }\n",
       "\n",
       "    .dataframe thead th {\n",
       "        text-align: right;\n",
       "    }\n",
       "</style>\n",
       "<table border=\"1\" class=\"dataframe\">\n",
       "  <thead>\n",
       "    <tr style=\"text-align: right;\">\n",
       "      <th></th>\n",
       "      <th>Location</th>\n",
       "      <th>Latitude</th>\n",
       "      <th>Longitude</th>\n",
       "      <th>Multi-Story?</th>\n",
       "      <th>Total Insured Value</th>\n",
       "      <th>Premium</th>\n",
       "      <th>Losses - Non Catastrophe</th>\n",
       "      <th>PolicyYear</th>\n",
       "      <th>PolicyResultLookup</th>\n",
       "      <th>LocationLookup</th>\n",
       "      <th>At Risk?</th>\n",
       "      <th>Region</th>\n",
       "    </tr>\n",
       "  </thead>\n",
       "  <tbody>\n",
       "    <tr>\n",
       "      <th>0</th>\n",
       "      <td>1</td>\n",
       "      <td>19.0</td>\n",
       "      <td>-100.1</td>\n",
       "      <td>No</td>\n",
       "      <td>290874</td>\n",
       "      <td>2644</td>\n",
       "      <td>68987</td>\n",
       "      <td>1980</td>\n",
       "      <td>1980 - 1</td>\n",
       "      <td>19-100.1</td>\n",
       "      <td>At Risk</td>\n",
       "      <td>South</td>\n",
       "    </tr>\n",
       "    <tr>\n",
       "      <th>1</th>\n",
       "      <td>1</td>\n",
       "      <td>19.0</td>\n",
       "      <td>-100.1</td>\n",
       "      <td>No</td>\n",
       "      <td>296488</td>\n",
       "      <td>2697</td>\n",
       "      <td>0</td>\n",
       "      <td>1981</td>\n",
       "      <td>1981 - 1</td>\n",
       "      <td>19-100.1</td>\n",
       "      <td>At Risk</td>\n",
       "      <td>South</td>\n",
       "    </tr>\n",
       "    <tr>\n",
       "      <th>2</th>\n",
       "      <td>1</td>\n",
       "      <td>19.0</td>\n",
       "      <td>-100.1</td>\n",
       "      <td>No</td>\n",
       "      <td>301944</td>\n",
       "      <td>2751</td>\n",
       "      <td>0</td>\n",
       "      <td>1982</td>\n",
       "      <td>1982 - 1</td>\n",
       "      <td>19-100.1</td>\n",
       "      <td>At Risk</td>\n",
       "      <td>South</td>\n",
       "    </tr>\n",
       "    <tr>\n",
       "      <th>3</th>\n",
       "      <td>1</td>\n",
       "      <td>19.0</td>\n",
       "      <td>-100.1</td>\n",
       "      <td>No</td>\n",
       "      <td>308254</td>\n",
       "      <td>2806</td>\n",
       "      <td>0</td>\n",
       "      <td>1983</td>\n",
       "      <td>1983 - 1</td>\n",
       "      <td>19-100.1</td>\n",
       "      <td>At Risk</td>\n",
       "      <td>South</td>\n",
       "    </tr>\n",
       "    <tr>\n",
       "      <th>4</th>\n",
       "      <td>1</td>\n",
       "      <td>19.0</td>\n",
       "      <td>-100.1</td>\n",
       "      <td>No</td>\n",
       "      <td>313433</td>\n",
       "      <td>2862</td>\n",
       "      <td>0</td>\n",
       "      <td>1984</td>\n",
       "      <td>1984 - 1</td>\n",
       "      <td>19-100.1</td>\n",
       "      <td>At Risk</td>\n",
       "      <td>South</td>\n",
       "    </tr>\n",
       "  </tbody>\n",
       "</table>\n",
       "</div>"
      ],
      "text/plain": [
       "   Location  Latitude  Longitude Multi-Story?  Total Insured Value  Premium  \\\n",
       "0         1      19.0     -100.1           No               290874     2644   \n",
       "1         1      19.0     -100.1           No               296488     2697   \n",
       "2         1      19.0     -100.1           No               301944     2751   \n",
       "3         1      19.0     -100.1           No               308254     2806   \n",
       "4         1      19.0     -100.1           No               313433     2862   \n",
       "\n",
       "   Losses - Non Catastrophe  PolicyYear PolicyResultLookup LocationLookup  \\\n",
       "0                     68987        1980           1980 - 1       19-100.1   \n",
       "1                         0        1981           1981 - 1       19-100.1   \n",
       "2                         0        1982           1982 - 1       19-100.1   \n",
       "3                         0        1983           1983 - 1       19-100.1   \n",
       "4                         0        1984           1984 - 1       19-100.1   \n",
       "\n",
       "  At Risk? Region  \n",
       "0  At Risk  South  \n",
       "1  At Risk  South  \n",
       "2  At Risk  South  \n",
       "3  At Risk  South  \n",
       "4  At Risk  South  "
      ]
     },
     "execution_count": 26,
     "metadata": {},
     "output_type": "execute_result"
    }
   ],
   "source": [
    "exposures_data.head(5)"
   ]
  },
  {
   "cell_type": "code",
   "execution_count": 27,
   "metadata": {},
   "outputs": [
    {
     "data": {
      "text/html": [
       "<div>\n",
       "<style scoped>\n",
       "    .dataframe tbody tr th:only-of-type {\n",
       "        vertical-align: middle;\n",
       "    }\n",
       "\n",
       "    .dataframe tbody tr th {\n",
       "        vertical-align: top;\n",
       "    }\n",
       "\n",
       "    .dataframe thead th {\n",
       "        text-align: right;\n",
       "    }\n",
       "</style>\n",
       "<table border=\"1\" class=\"dataframe\">\n",
       "  <thead>\n",
       "    <tr style=\"text-align: right;\">\n",
       "      <th></th>\n",
       "      <th>Location</th>\n",
       "      <th>Latitude</th>\n",
       "      <th>Longitude</th>\n",
       "      <th>Total Insured Value</th>\n",
       "      <th>Premium</th>\n",
       "      <th>Losses - Non Catastrophe</th>\n",
       "      <th>PolicyYear</th>\n",
       "    </tr>\n",
       "  </thead>\n",
       "  <tbody>\n",
       "    <tr>\n",
       "      <th>count</th>\n",
       "      <td>1257.000000</td>\n",
       "      <td>1257.000000</td>\n",
       "      <td>1257.000000</td>\n",
       "      <td>1.257000e+03</td>\n",
       "      <td>1257.000000</td>\n",
       "      <td>1257.000000</td>\n",
       "      <td>1257.000000</td>\n",
       "    </tr>\n",
       "    <tr>\n",
       "      <th>mean</th>\n",
       "      <td>45.622116</td>\n",
       "      <td>24.448528</td>\n",
       "      <td>-62.049324</td>\n",
       "      <td>1.045998e+06</td>\n",
       "      <td>6388.624503</td>\n",
       "      <td>4486.643596</td>\n",
       "      <td>1997.929196</td>\n",
       "    </tr>\n",
       "    <tr>\n",
       "      <th>std</th>\n",
       "      <td>29.609286</td>\n",
       "      <td>9.539034</td>\n",
       "      <td>20.172962</td>\n",
       "      <td>8.672599e+05</td>\n",
       "      <td>5774.709114</td>\n",
       "      <td>18392.594712</td>\n",
       "      <td>10.731030</td>\n",
       "    </tr>\n",
       "    <tr>\n",
       "      <th>min</th>\n",
       "      <td>1.000000</td>\n",
       "      <td>7.200000</td>\n",
       "      <td>-100.100000</td>\n",
       "      <td>1.199450e+05</td>\n",
       "      <td>502.000000</td>\n",
       "      <td>0.000000</td>\n",
       "      <td>1980.000000</td>\n",
       "    </tr>\n",
       "    <tr>\n",
       "      <th>25%</th>\n",
       "      <td>19.000000</td>\n",
       "      <td>15.900000</td>\n",
       "      <td>-78.900000</td>\n",
       "      <td>3.815710e+05</td>\n",
       "      <td>2450.000000</td>\n",
       "      <td>0.000000</td>\n",
       "      <td>1989.000000</td>\n",
       "    </tr>\n",
       "    <tr>\n",
       "      <th>50%</th>\n",
       "      <td>40.000000</td>\n",
       "      <td>26.300000</td>\n",
       "      <td>-63.400000</td>\n",
       "      <td>7.633480e+05</td>\n",
       "      <td>4081.000000</td>\n",
       "      <td>0.000000</td>\n",
       "      <td>1998.000000</td>\n",
       "    </tr>\n",
       "    <tr>\n",
       "      <th>75%</th>\n",
       "      <td>72.000000</td>\n",
       "      <td>31.400000</td>\n",
       "      <td>-45.200000</td>\n",
       "      <td>1.489011e+06</td>\n",
       "      <td>9088.000000</td>\n",
       "      <td>0.000000</td>\n",
       "      <td>2007.000000</td>\n",
       "    </tr>\n",
       "    <tr>\n",
       "      <th>max</th>\n",
       "      <td>100.000000</td>\n",
       "      <td>46.200000</td>\n",
       "      <td>-27.400000</td>\n",
       "      <td>4.990936e+06</td>\n",
       "      <td>36301.000000</td>\n",
       "      <td>192924.000000</td>\n",
       "      <td>2016.000000</td>\n",
       "    </tr>\n",
       "  </tbody>\n",
       "</table>\n",
       "</div>"
      ],
      "text/plain": [
       "          Location     Latitude    Longitude  Total Insured Value  \\\n",
       "count  1257.000000  1257.000000  1257.000000         1.257000e+03   \n",
       "mean     45.622116    24.448528   -62.049324         1.045998e+06   \n",
       "std      29.609286     9.539034    20.172962         8.672599e+05   \n",
       "min       1.000000     7.200000  -100.100000         1.199450e+05   \n",
       "25%      19.000000    15.900000   -78.900000         3.815710e+05   \n",
       "50%      40.000000    26.300000   -63.400000         7.633480e+05   \n",
       "75%      72.000000    31.400000   -45.200000         1.489011e+06   \n",
       "max     100.000000    46.200000   -27.400000         4.990936e+06   \n",
       "\n",
       "            Premium  Losses - Non Catastrophe   PolicyYear  \n",
       "count   1257.000000               1257.000000  1257.000000  \n",
       "mean    6388.624503               4486.643596  1997.929196  \n",
       "std     5774.709114              18392.594712    10.731030  \n",
       "min      502.000000                  0.000000  1980.000000  \n",
       "25%     2450.000000                  0.000000  1989.000000  \n",
       "50%     4081.000000                  0.000000  1998.000000  \n",
       "75%     9088.000000                  0.000000  2007.000000  \n",
       "max    36301.000000             192924.000000  2016.000000  "
      ]
     },
     "execution_count": 27,
     "metadata": {},
     "output_type": "execute_result"
    }
   ],
   "source": [
    "exposures_data.describe()"
   ]
  },
  {
   "cell_type": "code",
   "execution_count": 28,
   "metadata": {},
   "outputs": [
    {
     "data": {
      "text/html": [
       "<div>\n",
       "<style scoped>\n",
       "    .dataframe tbody tr th:only-of-type {\n",
       "        vertical-align: middle;\n",
       "    }\n",
       "\n",
       "    .dataframe tbody tr th {\n",
       "        vertical-align: top;\n",
       "    }\n",
       "\n",
       "    .dataframe thead th {\n",
       "        text-align: right;\n",
       "    }\n",
       "</style>\n",
       "<table border=\"1\" class=\"dataframe\">\n",
       "  <thead>\n",
       "    <tr style=\"text-align: right;\">\n",
       "      <th></th>\n",
       "      <th>Total Insured Value</th>\n",
       "      <th>Premium</th>\n",
       "      <th>Losses - Non Catastrophe</th>\n",
       "    </tr>\n",
       "  </thead>\n",
       "  <tbody>\n",
       "    <tr>\n",
       "      <th>Total Insured Value</th>\n",
       "      <td>1.000000</td>\n",
       "      <td>0.819942</td>\n",
       "      <td>0.142393</td>\n",
       "    </tr>\n",
       "    <tr>\n",
       "      <th>Premium</th>\n",
       "      <td>0.819942</td>\n",
       "      <td>1.000000</td>\n",
       "      <td>0.167160</td>\n",
       "    </tr>\n",
       "    <tr>\n",
       "      <th>Losses - Non Catastrophe</th>\n",
       "      <td>0.142393</td>\n",
       "      <td>0.167160</td>\n",
       "      <td>1.000000</td>\n",
       "    </tr>\n",
       "  </tbody>\n",
       "</table>\n",
       "</div>"
      ],
      "text/plain": [
       "                          Total Insured Value   Premium  \\\n",
       "Total Insured Value                  1.000000  0.819942   \n",
       "Premium                              0.819942  1.000000   \n",
       "Losses - Non Catastrophe             0.142393  0.167160   \n",
       "\n",
       "                          Losses - Non Catastrophe  \n",
       "Total Insured Value                       0.142393  \n",
       "Premium                                   0.167160  \n",
       "Losses - Non Catastrophe                  1.000000  "
      ]
     },
     "execution_count": 28,
     "metadata": {},
     "output_type": "execute_result"
    }
   ],
   "source": [
    "selected_cols =['Total Insured Value','Premium','Losses - Non Catastrophe']\n",
    "exposures_data[selected_cols].corr()"
   ]
  },
  {
   "cell_type": "code",
   "execution_count": 29,
   "metadata": {},
   "outputs": [
    {
     "data": {
      "text/html": [
       "<div>\n",
       "<style scoped>\n",
       "    .dataframe tbody tr th:only-of-type {\n",
       "        vertical-align: middle;\n",
       "    }\n",
       "\n",
       "    .dataframe tbody tr th {\n",
       "        vertical-align: top;\n",
       "    }\n",
       "\n",
       "    .dataframe thead th {\n",
       "        text-align: right;\n",
       "    }\n",
       "</style>\n",
       "<table border=\"1\" class=\"dataframe\">\n",
       "  <thead>\n",
       "    <tr style=\"text-align: right;\">\n",
       "      <th></th>\n",
       "      <th>Location</th>\n",
       "      <th>Latitude</th>\n",
       "      <th>Longitude</th>\n",
       "      <th>Multi-Story?</th>\n",
       "      <th>Total Insured Value</th>\n",
       "      <th>Premium</th>\n",
       "      <th>Losses - Non Catastrophe</th>\n",
       "      <th>PolicyYear</th>\n",
       "      <th>PolicyResultLookup</th>\n",
       "      <th>LocationLookup</th>\n",
       "      <th>At Risk?</th>\n",
       "      <th>Region</th>\n",
       "    </tr>\n",
       "  </thead>\n",
       "  <tbody>\n",
       "    <tr>\n",
       "      <th>0</th>\n",
       "      <td>1</td>\n",
       "      <td>19.0</td>\n",
       "      <td>-100.1</td>\n",
       "      <td>No</td>\n",
       "      <td>290874</td>\n",
       "      <td>2644</td>\n",
       "      <td>68987</td>\n",
       "      <td>1980</td>\n",
       "      <td>1980 - 1</td>\n",
       "      <td>19-100.1</td>\n",
       "      <td>At Risk</td>\n",
       "      <td>South</td>\n",
       "    </tr>\n",
       "    <tr>\n",
       "      <th>47</th>\n",
       "      <td>3</td>\n",
       "      <td>22.9</td>\n",
       "      <td>-74.5</td>\n",
       "      <td>Yes</td>\n",
       "      <td>1854070</td>\n",
       "      <td>4147</td>\n",
       "      <td>37570</td>\n",
       "      <td>2006</td>\n",
       "      <td>2006 - 3</td>\n",
       "      <td>22.9-74.5</td>\n",
       "      <td>At Risk</td>\n",
       "      <td>South</td>\n",
       "    </tr>\n",
       "    <tr>\n",
       "      <th>56</th>\n",
       "      <td>3</td>\n",
       "      <td>22.9</td>\n",
       "      <td>-74.5</td>\n",
       "      <td>Yes</td>\n",
       "      <td>2245665</td>\n",
       "      <td>4956</td>\n",
       "      <td>36871</td>\n",
       "      <td>2015</td>\n",
       "      <td>2015 - 3</td>\n",
       "      <td>22.9-74.5</td>\n",
       "      <td>At Risk</td>\n",
       "      <td>South</td>\n",
       "    </tr>\n",
       "    <tr>\n",
       "      <th>68</th>\n",
       "      <td>4</td>\n",
       "      <td>15.4</td>\n",
       "      <td>-28.8</td>\n",
       "      <td>Yes</td>\n",
       "      <td>388656</td>\n",
       "      <td>2268</td>\n",
       "      <td>12112</td>\n",
       "      <td>1990</td>\n",
       "      <td>1990 - 4</td>\n",
       "      <td>15.4-28.8</td>\n",
       "      <td>At Risk</td>\n",
       "      <td>South</td>\n",
       "    </tr>\n",
       "    <tr>\n",
       "      <th>76</th>\n",
       "      <td>4</td>\n",
       "      <td>15.4</td>\n",
       "      <td>-28.8</td>\n",
       "      <td>Yes</td>\n",
       "      <td>463052</td>\n",
       "      <td>2658</td>\n",
       "      <td>18869</td>\n",
       "      <td>1998</td>\n",
       "      <td>1998 - 4</td>\n",
       "      <td>15.4-28.8</td>\n",
       "      <td>At Risk</td>\n",
       "      <td>South</td>\n",
       "    </tr>\n",
       "    <tr>\n",
       "      <th>...</th>\n",
       "      <td>...</td>\n",
       "      <td>...</td>\n",
       "      <td>...</td>\n",
       "      <td>...</td>\n",
       "      <td>...</td>\n",
       "      <td>...</td>\n",
       "      <td>...</td>\n",
       "      <td>...</td>\n",
       "      <td>...</td>\n",
       "      <td>...</td>\n",
       "      <td>...</td>\n",
       "      <td>...</td>\n",
       "    </tr>\n",
       "    <tr>\n",
       "      <th>1184</th>\n",
       "      <td>93</td>\n",
       "      <td>18.4</td>\n",
       "      <td>-75.6</td>\n",
       "      <td>Yes</td>\n",
       "      <td>317877</td>\n",
       "      <td>1124</td>\n",
       "      <td>10019</td>\n",
       "      <td>1992</td>\n",
       "      <td>1992 - 93</td>\n",
       "      <td>18.4-75.6</td>\n",
       "      <td>At Risk</td>\n",
       "      <td>South</td>\n",
       "    </tr>\n",
       "    <tr>\n",
       "      <th>1209</th>\n",
       "      <td>94</td>\n",
       "      <td>24.4</td>\n",
       "      <td>-42.9</td>\n",
       "      <td>Yes</td>\n",
       "      <td>660931</td>\n",
       "      <td>3058</td>\n",
       "      <td>22687</td>\n",
       "      <td>1998</td>\n",
       "      <td>1998 - 94</td>\n",
       "      <td>24.4-42.9</td>\n",
       "      <td>At Risk</td>\n",
       "      <td>South</td>\n",
       "    </tr>\n",
       "    <tr>\n",
       "      <th>1215</th>\n",
       "      <td>94</td>\n",
       "      <td>24.4</td>\n",
       "      <td>-42.9</td>\n",
       "      <td>Yes</td>\n",
       "      <td>738201</td>\n",
       "      <td>3443</td>\n",
       "      <td>73029</td>\n",
       "      <td>2004</td>\n",
       "      <td>2004 - 94</td>\n",
       "      <td>24.4-42.9</td>\n",
       "      <td>At Risk</td>\n",
       "      <td>South</td>\n",
       "    </tr>\n",
       "    <tr>\n",
       "      <th>1216</th>\n",
       "      <td>95</td>\n",
       "      <td>24.4</td>\n",
       "      <td>-42.9</td>\n",
       "      <td>Yes</td>\n",
       "      <td>749496</td>\n",
       "      <td>3512</td>\n",
       "      <td>31469</td>\n",
       "      <td>2005</td>\n",
       "      <td>2005 - 95</td>\n",
       "      <td>24.4-42.9</td>\n",
       "      <td>At Risk</td>\n",
       "      <td>South</td>\n",
       "    </tr>\n",
       "    <tr>\n",
       "      <th>1237</th>\n",
       "      <td>99</td>\n",
       "      <td>12.1</td>\n",
       "      <td>-46.4</td>\n",
       "      <td>No</td>\n",
       "      <td>234485</td>\n",
       "      <td>2055</td>\n",
       "      <td>96035</td>\n",
       "      <td>1996</td>\n",
       "      <td>1996 - 99</td>\n",
       "      <td>12.1-46.4</td>\n",
       "      <td>At Risk</td>\n",
       "      <td>South</td>\n",
       "    </tr>\n",
       "  </tbody>\n",
       "</table>\n",
       "<p>109 rows × 12 columns</p>\n",
       "</div>"
      ],
      "text/plain": [
       "      Location  Latitude  Longitude Multi-Story?  Total Insured Value  \\\n",
       "0            1      19.0     -100.1           No               290874   \n",
       "47           3      22.9      -74.5          Yes              1854070   \n",
       "56           3      22.9      -74.5          Yes              2245665   \n",
       "68           4      15.4      -28.8          Yes               388656   \n",
       "76           4      15.4      -28.8          Yes               463052   \n",
       "...        ...       ...        ...          ...                  ...   \n",
       "1184        93      18.4      -75.6          Yes               317877   \n",
       "1209        94      24.4      -42.9          Yes               660931   \n",
       "1215        94      24.4      -42.9          Yes               738201   \n",
       "1216        95      24.4      -42.9          Yes               749496   \n",
       "1237        99      12.1      -46.4           No               234485   \n",
       "\n",
       "      Premium  Losses - Non Catastrophe  PolicyYear PolicyResultLookup  \\\n",
       "0        2644                     68987        1980           1980 - 1   \n",
       "47       4147                     37570        2006           2006 - 3   \n",
       "56       4956                     36871        2015           2015 - 3   \n",
       "68       2268                     12112        1990           1990 - 4   \n",
       "76       2658                     18869        1998           1998 - 4   \n",
       "...       ...                       ...         ...                ...   \n",
       "1184     1124                     10019        1992          1992 - 93   \n",
       "1209     3058                     22687        1998          1998 - 94   \n",
       "1215     3443                     73029        2004          2004 - 94   \n",
       "1216     3512                     31469        2005          2005 - 95   \n",
       "1237     2055                     96035        1996          1996 - 99   \n",
       "\n",
       "     LocationLookup At Risk? Region  \n",
       "0          19-100.1  At Risk  South  \n",
       "47        22.9-74.5  At Risk  South  \n",
       "56        22.9-74.5  At Risk  South  \n",
       "68        15.4-28.8  At Risk  South  \n",
       "76        15.4-28.8  At Risk  South  \n",
       "...             ...      ...    ...  \n",
       "1184      18.4-75.6  At Risk  South  \n",
       "1209      24.4-42.9  At Risk  South  \n",
       "1215      24.4-42.9  At Risk  South  \n",
       "1216      24.4-42.9  At Risk  South  \n",
       "1237      12.1-46.4  At Risk  South  \n",
       "\n",
       "[109 rows x 12 columns]"
      ]
     },
     "execution_count": 29,
     "metadata": {},
     "output_type": "execute_result"
    }
   ],
   "source": [
    "exposures_data[exposures_data['Losses - Non Catastrophe'] != 0]"
   ]
  },
  {
   "cell_type": "markdown",
   "metadata": {},
   "source": [
    "### Visualization"
   ]
  },
  {
   "cell_type": "code",
   "execution_count": 30,
   "metadata": {},
   "outputs": [
    {
     "data": {
      "image/png": "[encoded data removed]",
      "text/plain": [
       "<Figure size 640x480 with 1 Axes>"
      ]
     },
     "metadata": {},
     "output_type": "display_data"
    }
   ],
   "source": [
    "avg_premium = exposures_data.groupby('PolicyYear')['Premium'].mean()\n",
    "unique_years = exposures_data['PolicyYear'].unique().tolist()\n",
    "plt.scatter(unique_years, avg_premium)\n",
    "plt.xlabel('Policy Year')\n",
    "plt.ylabel('Premium')\n",
    "plt.title('Average Premium throughout years')\n",
    "plt.show()"
   ]
  },
  {
   "cell_type": "code",
   "execution_count": 31,
   "metadata": {},
   "outputs": [
    {
     "data": {
      "image/png": "[encoded data removed]",
      "text/plain": [
       "<Figure size 640x480 with 1 Axes>"
      ]
     },
     "metadata": {},
     "output_type": "display_data"
    }
   ],
   "source": [
    "total_insured = exposures_data.groupby('PolicyYear')['Total Insured Value'].sum()\n",
    "plt.scatter(unique_years, total_insured)\n",
    "plt.xlabel('Policy Year')\n",
    "plt.ylabel('Insured Value')\n",
    "plt.title('Insured Value throughout years')\n",
    "plt.show()"
   ]
  },
  {
   "cell_type": "code",
   "execution_count": 32,
   "metadata": {},
   "outputs": [
    {
     "data": {
      "image/png": "[encoded data removed]",
      "text/plain": [
       "<Figure size 640x480 with 1 Axes>"
      ]
     },
     "metadata": {},
     "output_type": "display_data"
    }
   ],
   "source": [
    "exposures_data['Losses - Non Catastrophe'].hist()\n",
    "plt.xlabel('Losses - Non Catastrophe')\n",
    "plt.ylabel('Frequency')\n",
    "plt.title('Histogram of Loss')\n",
    "plt.show()"
   ]
  },
  {
   "cell_type": "code",
   "execution_count": 33,
   "metadata": {},
   "outputs": [
    {
     "data": {
      "image/png": "[encoded data removed]",
      "text/plain": [
       "<Figure size 640x480 with 1 Axes>"
      ]
     },
     "metadata": {},
     "output_type": "display_data"
    }
   ],
   "source": [
    "exposures_data['Premium'].hist()\n",
    "plt.xlabel('Premium')\n",
    "plt.ylabel('Frequency')\n",
    "plt.title('Histogram of Premium')\n",
    "plt.show()"
   ]
  },
  {
   "cell_type": "code",
   "execution_count": 34,
   "metadata": {},
   "outputs": [
    {
     "data": {
      "image/png": "[encoded data removed]",
      "text/plain": [
       "<Figure size 640x480 with 1 Axes>"
      ]
     },
     "metadata": {},
     "output_type": "display_data"
    }
   ],
   "source": [
    "sns.countplot(data=exposures_data, x='Region')\n",
    "plt.show()"
   ]
  },
  {
   "cell_type": "code",
   "execution_count": 35,
   "metadata": {},
   "outputs": [
    {
     "data": {
      "image/png": "[encoded data removed]",
      "text/plain": [
       "<Figure size 640x480 with 1 Axes>"
      ]
     },
     "metadata": {},
     "output_type": "display_data"
    }
   ],
   "source": [
    "sns.countplot(data=exposures_data, x='At Risk?')\n",
    "plt.show()"
   ]
  },
  {
   "cell_type": "markdown",
   "metadata": {},
   "source": [
    "## Modeling"
   ]
  },
  {
   "cell_type": "code",
   "execution_count": null,
   "metadata": {},
   "outputs": [],
   "source": [
    "import plotly.express as px"
   ]
  },
  {
   "cell_type": "code",
   "execution_count": null,
   "metadata": {},
   "outputs": [],
   "source": []
  }
 ],
 "metadata": {
  "kernelspec": {
   "display_name": "Python 3",
   "language": "python",
   "name": "python3"
  },
  "language_info": {
   "codemirror_mode": {
    "name": "ipython",
    "version": 3
   },
   "file_extension": ".py",
   "mimetype": "text/x-python",
   "name": "python",
   "nbconvert_exporter": "python",
   "pygments_lexer": "ipython3",
   "version": "3.10.0"
  },
  "orig_nbformat": 4
 },
 "nbformat": 4,
 "nbformat_minor": 2
}
